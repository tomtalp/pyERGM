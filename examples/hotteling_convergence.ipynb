{
 "cells": [
  {
   "cell_type": "code",
   "execution_count": 1,
   "id": "initial_id",
   "metadata": {
    "collapsed": true,
    "ExecuteTime": {
     "end_time": "2024-09-17T07:11:14.001522300Z",
     "start_time": "2024-09-17T07:11:13.970241100Z"
    }
   },
   "outputs": [
    {
     "name": "stdout",
     "output_type": "stream",
     "text": [
      "D:\\OrenRichter\\Research\\pyERGM\n"
     ]
    },
    {
     "name": "stderr",
     "output_type": "stream",
     "text": [
      "D:\\OrenRichter\\Research\\pyERGM\\venv\\Lib\\site-packages\\IPython\\core\\magics\\osm.py:417: UserWarning: This is now an optional IPython functionality, setting dhist requires you to install the `pickleshare` library.\n",
      "  self.shell.db['dhist'] = compress_dhist(dhist)[-100:]\n"
     ]
    }
   ],
   "source": [
    "from pathlib import Path\n",
    "\n",
    "parent_dir = str(Path.cwd().parent)\n",
    "%cd $parent_dir"
   ]
  },
  {
   "cell_type": "code",
   "execution_count": 2,
   "outputs": [],
   "source": [
    "import numpy as np\n",
    "from matplotlib import pyplot as plt\n",
    "from scipy.stats import f\n",
    "from metrics import *\n",
    "from utils import *\n",
    "from ergm import ERGM"
   ],
   "metadata": {
    "collapsed": false,
    "ExecuteTime": {
     "end_time": "2024-09-17T07:11:26.068446100Z",
     "start_time": "2024-09-17T07:11:20.265864700Z"
    }
   },
   "id": "73374c02f1b7d34f"
  },
  {
   "cell_type": "code",
   "execution_count": 3,
   "outputs": [],
   "source": [
    "# Matrix copied manually, TODO - Create a `data` dir in our project and save as a pickle or something.\n",
    "sampson_matrix = np.array(\n",
    "    [[0, 1, 1, 0, 1, 0, 0, 1, 0, 0, 0, 1, 0, 1, 0, 0, 0, 0],\n",
    "     [1, 0, 0, 0, 0, 0, 1, 0, 0, 0, 0, 1, 0, 1, 1, 0, 0, 0],\n",
    "     [1, 1, 0, 0, 0, 0, 0, 0, 0, 0, 0, 0, 1, 0, 0, 0, 1, 1],\n",
    "     [0, 0, 0, 0, 1, 1, 0, 0, 0, 1, 1, 0, 0, 0, 0, 0, 0, 0],\n",
    "     [1, 0, 0, 1, 0, 0, 0, 0, 1, 0, 1, 0, 1, 0, 0, 0, 0, 0],\n",
    "     [1, 0, 0, 1, 1, 0, 0, 0, 1, 0, 0, 0, 0, 0, 0, 0, 0, 0],\n",
    "     [1, 1, 0, 0, 0, 0, 0, 1, 0, 0, 0, 1, 0, 0, 0, 1, 0, 0],\n",
    "     [1, 1, 0, 1, 0, 1, 0, 0, 1, 1, 0, 0, 0, 0, 0, 0, 0, 0],\n",
    "     [0, 0, 0, 0, 1, 0, 0, 1, 0, 0, 0, 1, 0, 0, 0, 1, 0, 0],\n",
    "     [0, 0, 0, 1, 1, 0, 0, 1, 1, 0, 0, 0, 1, 1, 0, 0, 0, 0],\n",
    "     [0, 0, 0, 1, 1, 0, 0, 1, 0, 0, 0, 0, 0, 1, 0, 1, 0, 0],\n",
    "     [1, 1, 0, 0, 0, 0, 1, 0, 0, 0, 0, 0, 0, 1, 0, 0, 0, 0],\n",
    "     [0, 0, 0, 0, 1, 0, 1, 0, 0, 0, 0, 0, 0, 0, 0, 0, 0, 1],\n",
    "     [1, 1, 0, 0, 0, 0, 0, 0, 0, 0, 1, 1, 0, 0, 1, 0, 0, 0],\n",
    "     [1, 1, 0, 0, 1, 0, 1, 0, 0, 0, 0, 1, 0, 1, 0, 0, 0, 0],\n",
    "     [1, 1, 0, 0, 0, 0, 1, 0, 0, 0, 0, 1, 0, 0, 1, 0, 0, 0],\n",
    "     [0, 1, 1, 0, 0, 0, 0, 0, 0, 0, 0, 0, 1, 0, 0, 0, 0, 1],\n",
    "     [1, 1, 1, 0, 0, 0, 1, 0, 0, 0, 0, 0, 1, 0, 0, 0, 1, 0]]\n",
    ")\n"
   ],
   "metadata": {
    "collapsed": false,
    "ExecuteTime": {
     "end_time": "2024-09-17T07:11:27.588855900Z",
     "start_time": "2024-09-17T07:11:27.573240300Z"
    }
   },
   "id": "73c85b5619d20082"
  },
  {
   "cell_type": "code",
   "execution_count": 5,
   "outputs": [
    {
     "name": "stdout",
     "output_type": "stream",
     "text": [
      "Removing the 0 feature of outdegree to fix multi-collinearity\n",
      "Removing the 0 feature of indegree to fix multi-collinearity\n",
      "Model is dyadic independent - using only MPLE instead of MCMLE\n"
     ]
    }
   ],
   "source": [
    "n = sampson_matrix.shape[0]\n",
    "is_directed = True\n",
    "\n",
    "estimated_p_seed = np.sum(sampson_matrix) / (n * (n - 1))\n",
    "\n",
    "metrics = [NumberOfEdgesDirected(), OutDegree(), InDegree()]\n",
    "\n",
    "model = ERGM(n, metrics, is_directed=is_directed)\n",
    "model.fit(sampson_matrix)\n",
    "observed_features = model._network_statistics.calculate_statistics(sampson_matrix)"
   ],
   "metadata": {
    "collapsed": false,
    "ExecuteTime": {
     "end_time": "2024-09-17T07:12:29.610389600Z",
     "start_time": "2024-09-17T07:12:25.552750400Z"
    }
   },
   "id": "80449b0229487e2c"
  },
  {
   "cell_type": "code",
   "execution_count": 6,
   "outputs": [],
   "source": [
    "sample_sizes = 1000 * np.array([1, 3, 10, 30, 100], dtype=int)"
   ],
   "metadata": {
    "collapsed": false,
    "ExecuteTime": {
     "end_time": "2024-09-17T07:12:52.011119300Z",
     "start_time": "2024-09-17T07:12:51.995381600Z"
    }
   },
   "id": "f1e5c9cafa604ca7"
  },
  {
   "cell_type": "code",
   "execution_count": 11,
   "outputs": [
    {
     "name": "stdout",
     "output_type": "stream",
     "text": [
      "sampled 1000 networks\n",
      "calculated statistics for sample\n",
      "calculated hotteling for sample\n",
      "sampled 3000 networks\n",
      "calculated statistics for sample\n",
      "calculated hotteling for sample\n",
      "sampled 10000 networks\n",
      "calculated statistics for sample\n",
      "calculated hotteling for sample\n",
      "sampled 30000 networks\n",
      "calculated statistics for sample\n",
      "calculated hotteling for sample\n",
      "sampled 100000 networks\n",
      "calculated statistics for sample\n",
      "calculated hotteling for sample\n"
     ]
    }
   ],
   "source": [
    "hotteling_statistics_exact_samples = np.zeros(sample_sizes.size)\n",
    "for i in range(sample_sizes.size):\n",
    "    cur_sample = model.generate_networks_for_sample(sampling_method='exact',\n",
    "                                                           sample_size=sample_sizes[i])\n",
    "    print(f\"sampled {sample_sizes[i]} networks\")\n",
    "    cur_sample_features = model._network_statistics.calculate_sample_statistics(cur_sample)\n",
    "    print(f\"calculated statistics for sample\")\n",
    "    hotteling_statistics_exact_samples[i] = calc_hotteling_statistic_for_sample(\n",
    "        observed_features,\n",
    "        cur_sample_features,\n",
    "        'multivariate_initial_sequence')\n",
    "    print(f\"calculated hotteling for sample\")"
   ],
   "metadata": {
    "collapsed": false,
    "ExecuteTime": {
     "end_time": "2024-09-17T07:16:03.923236800Z",
     "start_time": "2024-09-17T07:15:45.305385300Z"
    }
   },
   "id": "c644bcf33df6b67a"
  },
  {
   "cell_type": "code",
   "execution_count": 13,
   "outputs": [
    {
     "name": "stdout",
     "output_type": "stream",
     "text": [
      "sampled 1000 networks\n",
      "calculated statistics for sample\n",
      "calculated hotteling for sample\n",
      "sampled 3000 networks\n",
      "calculated statistics for sample\n",
      "calculated hotteling for sample\n",
      "sampled 10000 networks\n",
      "calculated statistics for sample\n",
      "calculated hotteling for sample\n",
      "sampled 30000 networks\n",
      "calculated statistics for sample\n",
      "calculated hotteling for sample\n",
      "sampled 100000 networks\n",
      "calculated statistics for sample\n",
      "calculated hotteling for sample\n"
     ]
    }
   ],
   "source": [
    "hotteling_statistics_mcmc_samples = np.zeros(sample_sizes.size)\n",
    "for i in range(sample_sizes.size):\n",
    "    cur_sample = model.generate_networks_for_sample(sampling_method='metropolis_hastings',\n",
    "                                                           seed_network=sampson_matrix,\n",
    "                                                           burn_in=1000,\n",
    "                                                           # Probably not really needed, as we can sample exactly from the distribution, but here to imitate exactly what goes on in ERGM.fit() \n",
    "                                                           mcmc_steps_per_sample=n,\n",
    "                                                           sample_size=sample_sizes[i])\n",
    "    print(f\"sampled {sample_sizes[i]} networks\")\n",
    "    cur_sample_features = model._network_statistics.calculate_sample_statistics(cur_sample)\n",
    "    print(f\"calculated statistics for sample\")\n",
    "    hotteling_statistics_mcmc_samples[i] = calc_hotteling_statistic_for_sample(\n",
    "        observed_features,\n",
    "        cur_sample_features,\n",
    "        'multivariate_initial_sequence')\n",
    "    print(f\"calculated hotteling for sample\")"
   ],
   "metadata": {
    "collapsed": false,
    "ExecuteTime": {
     "end_time": "2024-09-17T07:19:48.494121200Z",
     "start_time": "2024-09-17T07:16:47.434434500Z"
    }
   },
   "id": "c651b3c332d548dc"
  },
  {
   "cell_type": "code",
   "execution_count": 23,
   "outputs": [],
   "source": [
    "confidence_for_convergence = 0.9\n",
    "hotteling_critical_values = np.zeros(sample_sizes.size)\n",
    "num_features = model._network_statistics.num_of_features\n",
    "for i in range(sample_sizes.size):\n",
    "    hotteling_critical_values[i] = f.ppf(1 - confidence_for_convergence, num_features,\n",
    "                                         sample_sizes[i] - num_features)"
   ],
   "metadata": {
    "collapsed": false,
    "ExecuteTime": {
     "end_time": "2024-09-17T07:23:39.802938600Z",
     "start_time": "2024-09-17T07:23:39.709198200Z"
    }
   },
   "id": "bb75319194313141"
  },
  {
   "cell_type": "code",
   "execution_count": 24,
   "outputs": [
    {
     "data": {
      "text/plain": "<Figure size 640x480 with 1 Axes>",
      "image/png": "[encoded data removed]"
     },
     "metadata": {},
     "output_type": "display_data"
    }
   ],
   "source": [
    "plt.plot(sample_sizes, hotteling_statistics_exact_samples, marker='o', label='exact sampling statistics')\n",
    "plt.plot(sample_sizes, hotteling_statistics_mcmc_samples, marker='o', label='mcmc sampling statistics')\n",
    "plt.plot(sample_sizes, hotteling_critical_values, marker='o',\n",
    "         label=f'hotteling critical values confidence {confidence_for_convergence:.2f}')\n",
    "plt.xlabel('sample size')\n",
    "plt.ylabel('hotteling statistic')\n",
    "plt.legend()\n",
    "plt.show()"
   ],
   "metadata": {
    "collapsed": false,
    "ExecuteTime": {
     "end_time": "2024-09-17T07:23:41.866506600Z",
     "start_time": "2024-09-17T07:23:41.711608300Z"
    }
   },
   "id": "26c511234420e920"
  }
 ],
 "metadata": {
  "kernelspec": {
   "display_name": "Python 3",
   "language": "python",
   "name": "python3"
  },
  "language_info": {
   "codemirror_mode": {
    "name": "ipython",
    "version": 2
   },
   "file_extension": ".py",
   "mimetype": "text/x-python",
   "name": "python",
   "nbconvert_exporter": "python",
   "pygments_lexer": "ipython2",
   "version": "2.7.6"
  }
 },
 "nbformat": 4,
 "nbformat_minor": 5
}
