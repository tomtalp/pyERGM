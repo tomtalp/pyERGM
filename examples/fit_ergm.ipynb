{
 "cells": [
  {
   "cell_type": "code",
   "execution_count": 1,
   "metadata": {},
   "outputs": [
    {
     "name": "stdout",
     "output_type": "stream",
     "text": [
      "/Users/tomtalpir/Random/pyERGM\n"
     ]
    }
   ],
   "source": [
    "from pathlib import Path\n",
    "parent_dir = str(Path.cwd().parent)\n",
    "%cd $parent_dir"
   ]
  },
  {
   "cell_type": "code",
   "execution_count": 2,
   "metadata": {},
   "outputs": [],
   "source": [
    "from utils import *\n",
    "from ergm import ERGM, BruteForceERGM\n",
    "from metrics import *\n",
    "\n",
    "import pandas as pd\n",
    "import numpy as np"
   ]
  },
  {
   "cell_type": "code",
   "execution_count": 23,
   "metadata": {},
   "outputs": [
    {
     "name": "stdout",
     "output_type": "stream",
     "text": [
      "Ground truth number of edges - 2\n",
      "Ground truth p - 0.3333333333333333\n",
      "Ground truth theta - [-0.69314718]\n",
      "W = \n",
      "[[0. 0. 0. 1.]\n",
      " [0. 0. 0. 0.]\n",
      " [0. 0. 0. 1.]\n",
      " [1. 0. 1. 0.]]\n",
      "optimization started\n",
      "iteration: 1, time from start training: 0.011981964111328125 log likelihood: -3.1021371522089694\n",
      "  message: Desired error not necessarily achieved due to precision loss.\n",
      "  success: False\n",
      "   status: 2\n",
      "      fun: 3.1021371522089694\n",
      "        x: [-7.173e-01]\n",
      "      nit: 1\n",
      "      jac: [-3.212e-02]\n",
      " hess_inv: [[ 7.445e-01]]\n",
      "     nfev: 46\n",
      "     njev: 34\n",
      "fit theta: [-0.7173369]\n",
      "13.129905480168354\n"
     ]
    }
   ],
   "source": [
    "n = 4\n",
    "p = 0.25\n",
    "is_directed = False\n",
    "\n",
    "np.random.seed(9873645)\n",
    "num_pos_connect = n * (n - 1)\n",
    "\n",
    "if not is_directed:\n",
    "    num_pos_connect //= 2\n",
    "\n",
    "ground_truth_num_edges = round(num_pos_connect * p)\n",
    "ground_truth_p = ground_truth_num_edges / num_pos_connect\n",
    "ground_truth_theta = np.array([np.log(ground_truth_p / (1 - ground_truth_p))])\n",
    "\n",
    "print(f\"Ground truth number of edges - {ground_truth_num_edges}\")\n",
    "print(f\"Ground truth p - {ground_truth_p}\")\n",
    "print(f\"Ground truth theta - {ground_truth_theta}\")\n",
    "\n",
    "adj_mat_no_diag = np.zeros(num_pos_connect)\n",
    "on_indices = np.random.choice(num_pos_connect, size=ground_truth_num_edges, replace=False).astype(int)\n",
    "adj_mat_no_diag[on_indices] = 1\n",
    "adj_mat = np.zeros((n, n))\n",
    "\n",
    "if not is_directed:\n",
    "    upper_triangle_indices = np.triu_indices(n, k=1)\n",
    "    adj_mat[upper_triangle_indices] = adj_mat_no_diag\n",
    "    lower_triangle_indices_aligned = (upper_triangle_indices[1], upper_triangle_indices[0])\n",
    "    adj_mat[lower_triangle_indices_aligned] = adj_mat_no_diag\n",
    "else:\n",
    "    adj_mat[~np.eye(n, dtype=bool)] = adj_mat_no_diag\n",
    "\n",
    "print(f\"W = \")\n",
    "print(adj_mat)\n",
    "\n",
    "model = BruteForceERGM(n, MetricsCollection([NumberOfEdges()], is_directed=is_directed), is_directed=is_directed)\n",
    "model.fit(adj_mat)\n",
    "print(f\"fit theta: {model._thetas}\")\n",
    "print(model._normalization_factor)"
   ]
  },
  {
   "cell_type": "code",
   "execution_count": 22,
   "metadata": {},
   "outputs": [
    {
     "name": "stdout",
     "output_type": "stream",
     "text": [
      "optimization started\n",
      "iteration: 1, time from start training: 0.08420610427856445 log likelihood: -2.956636209752938\n",
      "\tOptimization result:\n",
      "\tTheta: [0.3148395]\n",
      "\tNormalization factor: 54.016438762928914\n",
      "  message: Desired error not necessarily achieved due to precision loss.\n",
      "  success: False\n",
      "   status: 2\n",
      "      fun: 2.956636209752938\n",
      "        x: [ 3.148e-01]\n",
      "      nit: 1\n",
      "      jac: [ 3.900e+00]\n",
      " hess_inv: [[ 2.336e-01]]\n",
      "     nfev: 21\n",
      "     njev: 9\n"
     ]
    }
   ],
   "source": [
    "n = 5\n",
    "metrics_calc = MetricsCollection([NumberOfEdges()], is_directed=is_directed)\n",
    "fitted_model = ERGM(n, metrics_calc, is_directed=is_directed, n_networks_for_norm=10, n_mcmc_steps=200)\n",
    "fitted_model.fit(adj_mat)"
   ]
  },
  {
   "cell_type": "code",
   "execution_count": null,
   "metadata": {},
   "outputs": [],
   "source": [
    "\n",
    "model = BruteForceERGM(n, MetricsCollection([NumberOfEdges()], is_directed=is_directed), is_directed=is_directed)\n",
    "model.fit(adj_mat)\n",
    "\n",
    "# print(f\"ground truth theta: {ground_truth_theta}\")\n",
    "# print(f\"fit theta: {model._thetas}\")\n",
    "\n",
    "# for t_model, t_ground_truth in zip(model._thetas, ground_truth_theta):\n",
    "#     self.assertAlmostEqual(t_model, t_ground_truth, places=5)\n",
    "\n",
    "# non_synapses_indices = np.where(adj_mat_no_diag == 0)[0]\n",
    "# prediction = ground_truth_p * np.ones(adj_mat_no_diag.size)\n",
    "# prediction[non_synapses_indices] = 1 - ground_truth_p\n",
    "# true_log_like = np.log(prediction).sum()\n",
    "# print(f\"true log likelihood: {true_log_like}\")\n",
    "\n",
    "# model_with_true_theta = BruteForceERGM(n, MetricsCollection([NumberOfEdges()], is_directed=is_directed),\n",
    "#                                         initial_thetas=np.array(ground_truth_theta), is_directed=is_directed)\n",
    "\n",
    "# ground_truth_model_log_like = np.log(model_with_true_theta.calculate_weight(adj_mat)) - np.log(\n",
    "#     model_with_true_theta._normalization_factor)\n",
    "\n",
    "# print(f\"model with true theta log like: {ground_truth_model_log_like}\")"
   ]
  }
 ],
 "metadata": {
  "kernelspec": {
   "display_name": "base",
   "language": "python",
   "name": "python3"
  },
  "language_info": {
   "codemirror_mode": {
    "name": "ipython",
    "version": 3
   },
   "file_extension": ".py",
   "mimetype": "text/x-python",
   "name": "python",
   "nbconvert_exporter": "python",
   "pygments_lexer": "ipython3",
   "version": "3.11.8"
  }
 },
 "nbformat": 4,
 "nbformat_minor": 2
}
