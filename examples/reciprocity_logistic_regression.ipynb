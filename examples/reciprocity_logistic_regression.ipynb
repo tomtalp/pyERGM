{
 "cells": [
  {
   "cell_type": "code",
   "id": "initial_id",
   "metadata": {
    "collapsed": true,
    "ExecuteTime": {
     "end_time": "2025-02-03T19:01:24.052247Z",
     "start_time": "2025-02-03T19:01:23.650056Z"
    }
   },
   "source": [
    "from pathlib import Path\n",
    "\n",
    "from torch.nn.init import zeros_\n",
    "\n",
    "parent_dir = str(Path.cwd().parent)\n",
    "%cd $parent_dir"
   ],
   "outputs": [
    {
     "name": "stdout",
     "output_type": "stream",
     "text": [
      "/Users/orenri/Projects/pyERGM\n"
     ]
    },
    {
     "name": "stderr",
     "output_type": "stream",
     "text": [
      "/Users/orenri/Projects/pyERGM/venv/lib/python3.12/site-packages/IPython/core/magics/osm.py:417: UserWarning: This is now an optional IPython functionality, setting dhist requires you to install the `pickleshare` library.\n",
      "  self.shell.db['dhist'] = compress_dhist(dhist)[-100:]\n"
     ]
    }
   ],
   "execution_count": 1
  },
  {
   "metadata": {
    "ExecuteTime": {
     "end_time": "2025-02-03T19:01:25.287962Z",
     "start_time": "2025-02-03T19:01:25.126116Z"
    }
   },
   "cell_type": "code",
   "source": [
    "from pyERGM.utils import *\n",
    "from pyERGM.ergm import ERGM\n",
    "from pyERGM.metrics import *\n",
    "from pyERGM.datasets import sampson_matrix\n",
    "\n",
    "import pandas as pd\n",
    "import numpy as np\n",
    "\n",
    "import seaborn as sns\n",
    "import matplotlib.pyplot as plt"
   ],
   "id": "f4b04451daaedf2f",
   "outputs": [
    {
     "name": "stderr",
     "output_type": "stream",
     "text": [
      "/Users/orenri/Projects/pyERGM/pyERGM/metrics.py:508: SyntaxWarning: invalid escape sequence '\\c'\n",
      "  \"\"\"\n"
     ]
    }
   ],
   "execution_count": 2
  },
  {
   "metadata": {
    "ExecuteTime": {
     "end_time": "2025-02-03T19:01:25.794349Z",
     "start_time": "2025-02-03T19:01:25.792751Z"
    }
   },
   "cell_type": "code",
   "source": "n = sampson_matrix.shape[0]",
   "id": "7043b00dc9cf4f0e",
   "outputs": [],
   "execution_count": 3
  },
  {
   "metadata": {
    "ExecuteTime": {
     "end_time": "2025-02-03T19:01:26.730988Z",
     "start_time": "2025-02-03T19:01:26.143251Z"
    }
   },
   "cell_type": "code",
   "source": [
    "is_directed = True\n",
    "metrics = [NumberOfEdgesDirected(), OutDegree(), InDegree(), TotalReciprocity()]\n",
    "model = ERGM(n, metrics, is_directed=is_directed)"
   ],
   "id": "ca8fe1a79f94900d",
   "outputs": [
    {
     "name": "stdout",
     "output_type": "stream",
     "text": [
      "Collinearity detected, identifying features to remove\n",
      "Removing the 0 feature of outdegree\n",
      "Collinearity detected, identifying features to remove\n",
      "Removing the 0 feature of indegree\n"
     ]
    }
   ],
   "execution_count": 4
  },
  {
   "metadata": {
    "ExecuteTime": {
     "end_time": "2025-02-03T19:01:27.521506Z",
     "start_time": "2025-02-03T19:01:27.459350Z"
    }
   },
   "cell_type": "code",
   "source": [
    "change_scores = np.zeros(((n ** 2 - n) // 2, 4, model._metrics_collection.calc_num_of_features()))\n",
    "idx = 0\n",
    "zeros_net = np.zeros((n, n))\n",
    "for i in range(n - 1):\n",
    "    for j in range(i + 1, n):\n",
    "        change_score_i_j = model._metrics_collection.calc_change_scores(zeros_net, {'edge': (i, j)})\n",
    "        net_with_i_j = zeros_net.copy()\n",
    "        net_with_i_j[i, j] = 1\n",
    "        change_scores[idx, 1] = change_score_i_j\n",
    "        change_score_j_i = model._metrics_collection.calc_change_scores(zeros_net, {'edge': (j, i)})\n",
    "        change_scores[idx, 2] = change_score_j_i\n",
    "        change_score_j_i_after_i_= model._metrics_collection.calc_change_scores(net_with_i_j, {'edge': (j, i)})\n",
    "        change_scores[idx, 3] = change_score_j_i_after_i_ + change_score_i_j\n",
    "        idx += 1"
   ],
   "id": "13cc958c99c4ede2",
   "outputs": [],
   "execution_count": 5
  },
  {
   "metadata": {
    "ExecuteTime": {
     "end_time": "2025-02-03T19:01:44.136171Z",
     "start_time": "2025-02-03T19:01:44.133347Z"
    }
   },
   "cell_type": "code",
   "source": "change_scores[0, 3]",
   "id": "dbfb39afccf87281",
   "outputs": [
    {
     "data": {
      "text/plain": [
       "array([2., 1., 0., 0., 0., 0., 0., 0., 0., 0., 0., 0., 0., 0., 0., 0., 0.,\n",
       "       0., 1., 0., 0., 0., 0., 0., 0., 0., 0., 0., 0., 0., 0., 0., 0., 0.,\n",
       "       0., 1.])"
      ]
     },
     "execution_count": 9,
     "metadata": {},
     "output_type": "execute_result"
    }
   ],
   "execution_count": 9
  },
  {
   "metadata": {
    "ExecuteTime": {
     "end_time": "2025-02-03T19:02:05.948348Z",
     "start_time": "2025-02-03T19:02:05.944964Z"
    }
   },
   "cell_type": "code",
   "source": [
    "y = np.zeros(((n ** 2 - n) // 2, 4))\n",
    "idx = 0\n",
    "for i in range(n - 1):\n",
    "    for j in range(i + 1, n):\n",
    "        if not sampson_matrix[i, j] and not sampson_matrix[j, i]:\n",
    "            y[idx, 0] = 1\n",
    "        elif sampson_matrix[i, j] and not sampson_matrix[j, i]:\n",
    "            y[idx, 1] = 1\n",
    "        elif not sampson_matrix[i, j] and sampson_matrix[j, i]:\n",
    "            y[idx, 2] = 1\n",
    "        else:\n",
    "            y[idx, 3] = 1\n",
    "        idx += 1"
   ],
   "id": "d005a4ba33c1bd49",
   "outputs": [],
   "execution_count": 10
  },
  {
   "metadata": {
    "ExecuteTime": {
     "end_time": "2025-02-03T19:02:06.825511Z",
     "start_time": "2025-02-03T19:02:06.823514Z"
    }
   },
   "cell_type": "code",
   "source": [
    "from scipy.special import softmax\n",
    "\n",
    "\n",
    "def predict(Xs, thetas):\n",
    "    return softmax(Xs @ thetas, axis=1)\n",
    "\n",
    "\n",
    "def minus_log_likelihood(thetas, Xs, ys):\n",
    "    return -np.log(predict(Xs, thetas)[np.where(ys == 1)]).sum()\n",
    "\n",
    "def minus_log_likelihood_gradient(thetas, Xs, ys):\n",
    "    prediction = predict(Xs, thetas)\n",
    "    num_features = Xs.shape[-1]\n",
    "    return -(ys - prediction).flatten() @ Xs.reshape(-1, num_features)\n",
    "    \n",
    "        "
   ],
   "id": "e7f1f7f1a4cf2801",
   "outputs": [],
   "execution_count": 11
  },
  {
   "metadata": {
    "ExecuteTime": {
     "end_time": "2025-02-03T19:02:31.295250Z",
     "start_time": "2025-02-03T19:02:31.270757Z"
    }
   },
   "cell_type": "code",
   "source": [
    "from scipy.optimize import minimize\n",
    "def after_iteration_callback(intermediate_result: OptimizeResult):\n",
    "    cur_time = time.time()\n",
    "    print(f'training: {cur_time - start_time} '\n",
    "          f'log10 likelihood: {-intermediate_result.fun / np.log(10)}')\n",
    "    sys.stdout.flush()\n",
    "\n",
    "\n",
    "thetas = np.random.rand(model._metrics_collection.calc_num_of_features())\n",
    "start_time = time.time()\n",
    "res = minimize(minus_log_likelihood, thetas, args=(change_scores, y), \n",
    "                           jac=minus_log_likelihood_gradient, method=\"L-BFGS-B\", callback=after_iteration_callback)"
   ],
   "id": "edb34799a423b989",
   "outputs": [
    {
     "name": "stdout",
     "output_type": "stream",
     "text": [
      "training: 0.0013208389282226562 log10 likelihood: -134.59981986824778\n",
      "training: 0.0028319358825683594 log10 likelihood: -87.99261930789979\n",
      "training: 0.003683805465698242 log10 likelihood: -79.82962997621102\n",
      "training: 0.004630088806152344 log10 likelihood: -76.76087879841505\n",
      "training: 0.0055789947509765625 log10 likelihood: -74.7444354422664\n",
      "training: 0.006635904312133789 log10 likelihood: -65.77269919059701\n",
      "training: 0.0075130462646484375 log10 likelihood: -64.6682776601011\n",
      "training: 0.008444786071777344 log10 likelihood: -62.99361400731236\n",
      "training: 0.009636878967285156 log10 likelihood: -62.36066596079582\n",
      "training: 0.01034092903137207 log10 likelihood: -62.08403490670974\n",
      "training: 0.011066913604736328 log10 likelihood: -61.918965990502\n",
      "training: 0.012036800384521484 log10 likelihood: -61.49855966821792\n",
      "training: 0.012695074081420898 log10 likelihood: -61.15317579841764\n",
      "training: 0.013209819793701172 log10 likelihood: -61.08372123708604\n",
      "training: 0.013799905776977539 log10 likelihood: -60.97803139102259\n",
      "training: 0.014323949813842773 log10 likelihood: -60.93504432675359\n",
      "training: 0.014831781387329102 log10 likelihood: -60.87287800185675\n",
      "training: 0.015268802642822266 log10 likelihood: -60.79369466396211\n",
      "training: 0.015885114669799805 log10 likelihood: -60.764129069042774\n",
      "training: 0.016362905502319336 log10 likelihood: -60.70554360541851\n",
      "training: 0.016854047775268555 log10 likelihood: -60.68365618567095\n",
      "training: 0.01742696762084961 log10 likelihood: -60.67929579283687\n",
      "training: 0.017808914184570312 log10 likelihood: -60.676054606123095\n",
      "training: 0.018291950225830078 log10 likelihood: -60.67378488885077\n",
      "training: 0.018730878829956055 log10 likelihood: -60.67244818389296\n",
      "training: 0.0191957950592041 log10 likelihood: -60.671977299442524\n",
      "training: 0.019591808319091797 log10 likelihood: -60.671930468709874\n",
      "training: 0.02002882957458496 log10 likelihood: -60.671896795622885\n",
      "training: 0.020387887954711914 log10 likelihood: -60.671895873326285\n",
      "training: 0.020788908004760742 log10 likelihood: -60.67189545525482\n",
      "training: 0.02160191535949707 log10 likelihood: -60.67189532826307\n"
     ]
    }
   ],
   "execution_count": 14
  },
  {
   "metadata": {
    "ExecuteTime": {
     "end_time": "2025-02-03T19:02:35.468139Z",
     "start_time": "2025-02-03T19:02:35.465081Z"
    }
   },
   "cell_type": "code",
   "source": "res",
   "id": "3c40c244ff5c6d52",
   "outputs": [
    {
     "data": {
      "text/plain": [
       "  message: CONVERGENCE: REL_REDUCTION_OF_F_<=_FACTR*EPSMCH\n",
       "  success: True\n",
       "   status: 0\n",
       "      fun: 139.70220174655364\n",
       "        x: [-1.192e+00 -2.300e-01 ... -3.308e+00  3.700e+00]\n",
       "      nit: 31\n",
       "      jac: [ 3.227e-04  3.439e-04 ...  8.856e-05  2.578e-04]\n",
       "     nfev: 35\n",
       "     njev: 35\n",
       " hess_inv: <36x36 LbfgsInvHessProduct with dtype=float64>"
      ]
     },
     "execution_count": 15,
     "metadata": {},
     "output_type": "execute_result"
    }
   ],
   "execution_count": 15
  },
  {
   "metadata": {
    "ExecuteTime": {
     "end_time": "2025-02-03T19:02:42.563614Z",
     "start_time": "2025-02-03T19:02:42.449915Z"
    }
   },
   "cell_type": "code",
   "source": [
    "import seaborn as sns\n",
    "\n",
    "true_values = {\"edges\": -1.1761, \"sender2\": -0.2945, \"sender3\": 1.4141, \"sender4\": 0.3662, \"sender5\": 0.1315,\n",
    "               \"sender6\": 1.2148, \"sender7\": 0.6055,\n",
    "               \"sender8\": 1.3609, \"sender9\": 0.6402, \"sender10\": 2.0639, \"sender11\": 1.4355, \"sender12\": -0.1681,\n",
    "               \"sender13\": -0.2322, \"sender14\": 0.5841, \"sender15\": 1.8600,\n",
    "               \"sender16\": 1.4317, \"sender17\": 1.2211, \"sender18\": 1.8724, \"receiver2\": -0.1522, \"receiver3\": -3.0453,\n",
    "               \"receiver4\": -1.7596, \"receiver5\": -0.8198, \"receiver6\": -3.3922,\n",
    "               \"receiver7\": -1.6074, \"receiver8\": -2.2656, \"receiver9\": -2.2069, \"receiver10\": -3.9189,\n",
    "               \"receiver11\": -3.0257, \"receiver12\": -0.9457, \"receiver13\": -1.4749, \"receiver14\": -1.5950,\n",
    "               \"receiver15\": -3.3147, \"receiver16\": -3.0567, \"receiver17\": -3.4436, \"receiver18\": -3.3239,\n",
    "               \"mutual\": 3.6918\n",
    "               }\n",
    "\n",
    "true_thetas = np.array(list(true_values.values()))\n",
    "\n",
    "fig, ax = plt.subplots(figsize=(8, 6))\n",
    "sns.scatterplot(x=true_thetas, y=res.x)\n",
    "\n",
    "min_x = min(min(true_thetas), min(res.x))\n",
    "max_x = max(max(true_thetas), max(res.x))\n",
    "\n",
    "sns.lineplot(x=[min_x, max_x], y=[min_x, max_x], color=\"red\", linestyle=\"--\", alpha=0.5)\n",
    "ax.set(xlabel='R thetas', ylabel='pyERGM thetas')\n",
    "ax.set_title(\"Comparison of pyERGM & R thetas\")\n",
    "plt.show()\n"
   ],
   "id": "6a03c42799765619",
   "outputs": [
    {
     "data": {
      "text/plain": [
       "<Figure size 800x600 with 1 Axes>"
      ],
      "image/png": "[encoded data removed]"
     },
     "metadata": {},
     "output_type": "display_data"
    }
   ],
   "execution_count": 16
  }
 ],
 "metadata": {
  "kernelspec": {
   "display_name": "Python 3",
   "language": "python",
   "name": "python3"
  },
  "language_info": {
   "codemirror_mode": {
    "name": "ipython",
    "version": 2
   },
   "file_extension": ".py",
   "mimetype": "text/x-python",
   "name": "python",
   "nbconvert_exporter": "python",
   "pygments_lexer": "ipython2",
   "version": "2.7.6"
  }
 },
 "nbformat": 4,
 "nbformat_minor": 5
}
