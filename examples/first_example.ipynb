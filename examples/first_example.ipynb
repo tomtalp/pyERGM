{
 "cells": [
  {
   "cell_type": "code",
   "execution_count": 6,
   "metadata": {
    "ExecuteTime": {
     "end_time": "2024-07-21T12:28:56.044446900Z",
     "start_time": "2024-07-21T12:28:55.917504Z"
    }
   },
   "outputs": [
    {
     "name": "stdout",
     "output_type": "stream",
     "text": [
      "D:\\OrenRichter\\Research\\pyERGM\n"
     ]
    },
    {
     "name": "stderr",
     "output_type": "stream",
     "text": [
      "D:\\OrenRichter\\Research\\pyERGM\\venv\\Lib\\site-packages\\IPython\\core\\magics\\osm.py:417: UserWarning: This is now an optional IPython functionality, setting dhist requires you to install the `pickleshare` library.\n",
      "  self.shell.db['dhist'] = compress_dhist(dhist)[-100:]\n"
     ]
    }
   ],
   "source": [
    "from pathlib import Path\n",
    "parent_dir = str(Path.cwd().parent)\n",
    "%cd $parent_dir"
   ]
  },
  {
   "cell_type": "code",
   "execution_count": 8,
   "metadata": {
    "ExecuteTime": {
     "end_time": "2024-07-21T12:30:25.054064700Z",
     "start_time": "2024-07-21T12:30:23.471407200Z"
    }
   },
   "outputs": [],
   "source": [
    "from utils import *\n",
    "from ergm import ERGM\n",
    "\n",
    "import pandas as pd\n",
    "import numpy as np"
   ]
  },
  {
   "cell_type": "markdown",
   "metadata": {},
   "source": [
    "### Initialize an ERGM with random coefficients"
   ]
  },
  {
   "cell_type": "code",
   "execution_count": 9,
   "metadata": {
    "ExecuteTime": {
     "end_time": "2024-07-21T13:32:42.547782400Z",
     "start_time": "2024-07-21T13:32:42.531930200Z"
    }
   },
   "outputs": [
    {
     "name": "stdout",
     "output_type": "stream",
     "text": [
      "Number of nodes: 10\n",
      "Thetas: [0.33527386]\n",
      "Normalization factor approx: 36.49400038899532\n",
      "Is directed: False\n"
     ]
    }
   ],
   "source": [
    "n_nodes = 10\n",
    "stats_calculator = NetworkStatistics(metric_names=[\"num_edges\"], )\n",
    "\n",
    "\n",
    "stats = [NumEdges(), CustomMetric(lambda x: ), ]\n",
    "ergm = ERGM(n_nodes, stats_calculator, is_directed=False)\n",
    "ergm = ERGM(n_nodes, stats_calculator, is_directed=True)\n",
    "\n",
    "ergm.print_model_parameters()"
   ]
  },
  {
   "cell_type": "markdown",
   "metadata": {},
   "source": [
    "### Sample networks from the distribution, and calculate some statistics on the distribution"
   ]
  },
  {
   "cell_type": "code",
   "execution_count": 10,
   "metadata": {
    "ExecuteTime": {
     "end_time": "2024-07-21T13:33:29.562627900Z",
     "start_time": "2024-07-21T13:33:26.542060800Z"
    }
   },
   "outputs": [
    {
     "data": {
      "text/plain": "   edge_count  triangle_count\n0          45             120\n1          45             120\n2          45             120\n3          45             120\n4          45             120\n5          45             120\n6          45             120\n7          45             120\n8          45             120\n9          45             120",
      "text/html": "<div>\n<style scoped>\n    .dataframe tbody tr th:only-of-type {\n        vertical-align: middle;\n    }\n\n    .dataframe tbody tr th {\n        vertical-align: top;\n    }\n\n    .dataframe thead th {\n        text-align: right;\n    }\n</style>\n<table border=\"1\" class=\"dataframe\">\n  <thead>\n    <tr style=\"text-align: right;\">\n      <th></th>\n      <th>edge_count</th>\n      <th>triangle_count</th>\n    </tr>\n  </thead>\n  <tbody>\n    <tr>\n      <th>0</th>\n      <td>45</td>\n      <td>120</td>\n    </tr>\n    <tr>\n      <th>1</th>\n      <td>45</td>\n      <td>120</td>\n    </tr>\n    <tr>\n      <th>2</th>\n      <td>45</td>\n      <td>120</td>\n    </tr>\n    <tr>\n      <th>3</th>\n      <td>45</td>\n      <td>120</td>\n    </tr>\n    <tr>\n      <th>4</th>\n      <td>45</td>\n      <td>120</td>\n    </tr>\n    <tr>\n      <th>5</th>\n      <td>45</td>\n      <td>120</td>\n    </tr>\n    <tr>\n      <th>6</th>\n      <td>45</td>\n      <td>120</td>\n    </tr>\n    <tr>\n      <th>7</th>\n      <td>45</td>\n      <td>120</td>\n    </tr>\n    <tr>\n      <th>8</th>\n      <td>45</td>\n      <td>120</td>\n    </tr>\n    <tr>\n      <th>9</th>\n      <td>45</td>\n      <td>120</td>\n    </tr>\n  </tbody>\n</table>\n</div>"
     },
     "execution_count": 10,
     "metadata": {},
     "output_type": "execute_result"
    }
   ],
   "source": [
    "network_stats = []\n",
    "for i in range(10):\n",
    "    W = ergm.sample_network(sampling_method=\"NaiveMetropolisHastings\", steps=1000)\n",
    "    G = connectivity_matrix_to_G(W, directed=False)\n",
    "    edge_count = len(G.edges())\n",
    "    triangle_count = sum(nx.triangles(G).values()) // 3\n",
    "\n",
    "    network_stats.append({\"edge_count\": edge_count, \"triangle_count\": triangle_count})\n",
    "\n",
    "network_stats_df = pd.DataFrame(network_stats)\n",
    "network_stats_df.head(20)\n"
   ]
  },
  {
   "cell_type": "markdown",
   "metadata": {},
   "source": [
    "## Fit an ERGM"
   ]
  },
  {
   "cell_type": "markdown",
   "metadata": {},
   "source": [
    "We begin by initializing an ERGM with predefined parameters - "
   ]
  },
  {
   "cell_type": "code",
   "execution_count": 11,
   "metadata": {
    "ExecuteTime": {
     "end_time": "2024-07-21T13:33:52.394915900Z",
     "start_time": "2024-07-21T13:33:52.379092600Z"
    }
   },
   "outputs": [
    {
     "name": "stdout",
     "output_type": "stream",
     "text": [
      "Baseline ERGM parameters - \n",
      "Number of nodes: 5\n",
      "Thetas: [np.float64(-1.0986122886681098)]\n",
      "Normalization factor approx: 43.441946503045074\n",
      "Is directed: False\n"
     ]
    }
   ],
   "source": [
    "n_nodes = 5\n",
    "stats_calculator = NetworkStatistics(metric_names=[\"num_edges\"])\n",
    "\n",
    "theta = -np.log(3)\n",
    "ergm = ERGM(n_nodes, stats_calculator, is_directed=False, initial_thetas=[theta])\n",
    "\n",
    "print(\"Baseline ERGM parameters - \")\n",
    "ergm.print_model_parameters()\n"
   ]
  },
  {
   "cell_type": "markdown",
   "metadata": {},
   "source": [
    "We now sample from this model a network that will become our \"observed network\", when estimating our fit performance."
   ]
  },
  {
   "cell_type": "code",
   "execution_count": 12,
   "metadata": {
    "ExecuteTime": {
     "end_time": "2024-07-21T13:34:07.998379900Z",
     "start_time": "2024-07-21T13:34:07.904510500Z"
    }
   },
   "outputs": [
    {
     "name": "stdout",
     "output_type": "stream",
     "text": [
      "Sampled a random network from a model with theta = -1.0986122886681098\n",
      "[[0. 0. 1. 1. 1.]\n",
      " [0. 0. 0. 1. 0.]\n",
      " [1. 0. 0. 0. 0.]\n",
      " [1. 1. 0. 0. 0.]\n",
      " [1. 0. 0. 0. 0.]]\n",
      "Network has statistics - edge count: 4, triangle count: 0\n"
     ]
    }
   ],
   "source": [
    "W = ergm.sample_network(sampling_method=\"NaiveMetropolisHastings\", steps=1000)\n",
    "\n",
    "G = connectivity_matrix_to_G(W, directed=False)\n",
    "\n",
    "real_edge_count = len(G.edges())\n",
    "real_triangle_count = sum(nx.triangles(G).values()) // 3\n",
    "\n",
    "print(f\"Sampled a random network from a model with theta = {theta}\")\n",
    "print(W)\n",
    "print(f\"Network has statistics - edge count: {real_edge_count}, triangle count: {real_triangle_count}\")"
   ]
  },
  {
   "cell_type": "markdown",
   "metadata": {},
   "source": [
    "Now, fit a random ERGM to create networks with similar statistics"
   ]
  },
  {
   "cell_type": "code",
   "execution_count": 13,
   "metadata": {
    "ExecuteTime": {
     "end_time": "2024-07-21T13:35:20.570400200Z",
     "start_time": "2024-07-21T13:35:19.572400900Z"
    }
   },
   "outputs": [
    {
     "name": "stdout",
     "output_type": "stream",
     "text": [
      "Initial ERGM parameters:\n",
      "Number of nodes: 5\n",
      "Thetas: [0.38415461]\n",
      "Normalization factor approx: 50.33647025496875\n",
      "Is directed: False\n",
      "\n",
      "Mean of samples before fitting, calculated on 10 samples- \n",
      "edge_count        10.0\n",
      "triangle_count    10.0\n",
      "dtype: float64\n"
     ]
    }
   ],
   "source": [
    "fitted_ergm = ERGM(n_nodes, stats_calculator, is_directed=False)\n",
    "print(f\"Initial ERGM parameters:\")\n",
    "fitted_ergm.print_model_parameters()\n",
    "\n",
    "pre_fit_W_matrices = []\n",
    "samples_before_fit = []\n",
    "\n",
    "n_samples = 10\n",
    "\n",
    "for i in range(n_samples):\n",
    "    sampled_W = fitted_ergm.sample_network(sampling_method=\"NaiveMetropolisHastings\", steps=1000)\n",
    "    G = connectivity_matrix_to_G(sampled_W, directed=False)\n",
    "    edge_count = len(G.edges())\n",
    "    triangle_count = sum(nx.triangles(G).values()) // 3\n",
    "\n",
    "    samples_before_fit.append({\"edge_count\": edge_count, \"triangle_count\": triangle_count})\n",
    "    pre_fit_W_matrices.append(sampled_W)\n",
    "\n",
    "samples_before_fit_df = pd.DataFrame(samples_before_fit)\n",
    "print(\"\")\n",
    "# Print mean for each metric - \n",
    "print(f\"Mean of samples before fitting, calculated on {n_samples} samples- \")\n",
    "print(samples_before_fit_df.mean())\n"
   ]
  },
  {
   "cell_type": "markdown",
   "metadata": {},
   "source": [
    "We now fit the ERGM!"
   ]
  },
  {
   "cell_type": "code",
   "execution_count": 14,
   "metadata": {
    "ExecuteTime": {
     "end_time": "2024-07-21T14:09:49.796634200Z",
     "start_time": "2024-07-21T13:35:32.539389400Z"
    }
   },
   "outputs": [
    {
     "name": "stdout",
     "output_type": "stream",
     "text": [
      "Fitting ERGM...\n",
      "\tStarting fit with initial normalization factor: 50.33647025496875\n",
      "\tOptimization options: {'disp': True, 'maxiter': 500, 'maxfev': 500}\n",
      "\tOptimization result:\n",
      "\tTheta: [-0.39642108]\n",
      "\tNormalization factor: 41.88198286288824\n",
      "       message: Maximum number of function evaluations has been exceeded.\n",
      "       success: False\n",
      "        status: 1\n",
      "           fun: 5.243735736850018\n",
      "             x: [-3.964e-01]\n",
      "           nit: 189\n",
      "          nfev: 500\n",
      " final_simplex: (array([[-3.964e-01],\n",
      "                       [-3.964e-01]]), array([ 5.244e+00,  5.271e+00]))\n",
      "Done fitting!\n"
     ]
    },
    {
     "name": "stderr",
     "output_type": "stream",
     "text": [
      "D:\\OrenRichter\\Research\\pyERGM\\ergm.py:129: RuntimeWarning: Maximum number of function evaluations has been exceeded.\n",
      "  # OR: Providing the Scipy optimizer with a gradient function can streamline the optimization substantially. The\n"
     ]
    }
   ],
   "source": [
    "\n",
    "print(f\"Fitting ERGM...\")\n",
    "fitted_ergm.fit(W, optimization_options={'disp': True, 'maxiter': 500, 'maxfev': 500}, n_networks_for_norm=500, n_mcmc_steps=100)\n",
    "print(\"Done fitting!\")\n"
   ]
  },
  {
   "cell_type": "code",
   "execution_count": 48,
   "metadata": {},
   "outputs": [
    {
     "name": "stdout",
     "output_type": "stream",
     "text": [
      "Post fit ERGM parameters:\n",
      "Number of nodes: 5\n",
      "Thetas: [-0.15381744]\n",
      "Normalization factor approx: 135.44816303424523\n",
      "Is directed: False\n",
      "\n",
      "Mean of samples after fitting, calculated on 10 samples- \n",
      "edge_count        8.4\n",
      "triangle_count    6.0\n",
      "dtype: float64\n"
     ]
    }
   ],
   "source": [
    "print(f\"Post fit ERGM parameters:\")\n",
    "fitted_ergm.print_model_parameters()\n",
    "\n",
    "post_fit_W_matrices = []\n",
    "samples_after_fit = []\n",
    "\n",
    "for i in range(n_samples):\n",
    "    sampled_W = fitted_ergm.sample_network(sampling_method=\"NaiveMetropolisHastings\", steps=1000)\n",
    "    G = connectivity_matrix_to_G(sampled_W, directed=False)\n",
    "    edge_count = len(G.edges())\n",
    "    triangle_count = sum(nx.triangles(G).values()) // 3\n",
    "\n",
    "    samples_after_fit.append({\"edge_count\": edge_count, \"triangle_count\": triangle_count})\n",
    "    post_fit_W_matrices.append(sampled_W)\n",
    "\n",
    "samples_after_fit_df = pd.DataFrame(samples_after_fit)\n",
    "print(\"\")\n",
    "\n",
    "print(f\"Mean of samples after fitting, calculated on {n_samples} samples- \")\n",
    "print(samples_after_fit_df.mean())\n",
    "\n"
   ]
  },
  {
   "cell_type": "markdown",
   "metadata": {},
   "source": [
    "$$\n",
    "\\hat{\\theta} = -0.1538 , \\theta = -0.3369\n",
    "\\\\\n",
    "$$\n",
    "\n",
    "edge count and triangle_count not looking better than the random ergm..."
   ]
  }
 ],
 "metadata": {
  "kernelspec": {
   "display_name": "base",
   "language": "python",
   "name": "python3"
  },
  "language_info": {
   "codemirror_mode": {
    "name": "ipython",
    "version": 3
   },
   "file_extension": ".py",
   "mimetype": "text/x-python",
   "name": "python",
   "nbconvert_exporter": "python",
   "pygments_lexer": "ipython3",
   "version": "3.11.8"
  }
 },
 "nbformat": 4,
 "nbformat_minor": 2
}
