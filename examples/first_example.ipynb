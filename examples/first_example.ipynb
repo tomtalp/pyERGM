{
 "cells": [
  {
   "cell_type": "code",
   "execution_count": 1,
   "metadata": {},
   "outputs": [
    {
     "name": "stdout",
     "output_type": "stream",
     "text": [
      "/Users/tomtalpir/Random/pyERGM\n"
     ]
    }
   ],
   "source": [
    "%cd /Users/tomtalpir/Random/pyERGM"
   ]
  },
  {
   "cell_type": "code",
   "execution_count": 2,
   "metadata": {},
   "outputs": [],
   "source": [
    "from utils import *\n",
    "from ergm import ERGM\n",
    "\n",
    "import pandas as pd\n",
    "import numpy as np"
   ]
  },
  {
   "cell_type": "markdown",
   "metadata": {},
   "source": [
    "### Initialize an ERGM with random coefficients"
   ]
  },
  {
   "cell_type": "code",
   "execution_count": 3,
   "metadata": {},
   "outputs": [
    {
     "name": "stdout",
     "output_type": "stream",
     "text": [
      "Number of nodes: 10\n",
      "Thetas: [-0.29766759]\n",
      "Normalization factor approx: 50.779457576278446\n",
      "Is directed: False\n"
     ]
    }
   ],
   "source": [
    "n_nodes = 10\n",
    "stats_calculator = NetworkStatistics(metric_names=[\"num_edges\"], )\n",
    "\n",
    "\n",
    "stats = [NumEdges(), CustomMetric(lambda x: ), ]\n",
    "ergm = ERGM(n_nodes, stats_calculator, is_directed=False)\n",
    "ergm = ERGM(n_nodes, stats_calculator, is_directed=True)\n",
    "\n",
    "ergm.print_model_parameters()"
   ]
  },
  {
   "cell_type": "markdown",
   "metadata": {},
   "source": [
    "### Sample networks from the distribution, and calculate some statistics on the distribution"
   ]
  },
  {
   "cell_type": "code",
   "execution_count": 4,
   "metadata": {},
   "outputs": [
    {
     "data": {
      "text/html": [
       "<div>\n",
       "<style scoped>\n",
       "    .dataframe tbody tr th:only-of-type {\n",
       "        vertical-align: middle;\n",
       "    }\n",
       "\n",
       "    .dataframe tbody tr th {\n",
       "        vertical-align: top;\n",
       "    }\n",
       "\n",
       "    .dataframe thead th {\n",
       "        text-align: right;\n",
       "    }\n",
       "</style>\n",
       "<table border=\"1\" class=\"dataframe\">\n",
       "  <thead>\n",
       "    <tr style=\"text-align: right;\">\n",
       "      <th></th>\n",
       "      <th>edge_count</th>\n",
       "      <th>triangle_count</th>\n",
       "    </tr>\n",
       "  </thead>\n",
       "  <tbody>\n",
       "    <tr>\n",
       "      <th>0</th>\n",
       "      <td>33</td>\n",
       "      <td>47</td>\n",
       "    </tr>\n",
       "    <tr>\n",
       "      <th>1</th>\n",
       "      <td>35</td>\n",
       "      <td>57</td>\n",
       "    </tr>\n",
       "    <tr>\n",
       "      <th>2</th>\n",
       "      <td>36</td>\n",
       "      <td>62</td>\n",
       "    </tr>\n",
       "    <tr>\n",
       "      <th>3</th>\n",
       "      <td>36</td>\n",
       "      <td>57</td>\n",
       "    </tr>\n",
       "    <tr>\n",
       "      <th>4</th>\n",
       "      <td>39</td>\n",
       "      <td>79</td>\n",
       "    </tr>\n",
       "    <tr>\n",
       "      <th>5</th>\n",
       "      <td>36</td>\n",
       "      <td>63</td>\n",
       "    </tr>\n",
       "    <tr>\n",
       "      <th>6</th>\n",
       "      <td>34</td>\n",
       "      <td>53</td>\n",
       "    </tr>\n",
       "    <tr>\n",
       "      <th>7</th>\n",
       "      <td>38</td>\n",
       "      <td>76</td>\n",
       "    </tr>\n",
       "    <tr>\n",
       "      <th>8</th>\n",
       "      <td>38</td>\n",
       "      <td>72</td>\n",
       "    </tr>\n",
       "    <tr>\n",
       "      <th>9</th>\n",
       "      <td>32</td>\n",
       "      <td>46</td>\n",
       "    </tr>\n",
       "  </tbody>\n",
       "</table>\n",
       "</div>"
      ],
      "text/plain": [
       "   edge_count  triangle_count\n",
       "0          33              47\n",
       "1          35              57\n",
       "2          36              62\n",
       "3          36              57\n",
       "4          39              79\n",
       "5          36              63\n",
       "6          34              53\n",
       "7          38              76\n",
       "8          38              72\n",
       "9          32              46"
      ]
     },
     "execution_count": 4,
     "metadata": {},
     "output_type": "execute_result"
    }
   ],
   "source": [
    "network_stats = []\n",
    "for i in range(10):\n",
    "    W = ergm.sample_network(sampling_method=\"NaiveMetropolisHastings\", steps=1000)\n",
    "    G = connectivity_matrix_to_G(W, directed=False)\n",
    "    edge_count = len(G.edges())\n",
    "    triangle_count = sum(nx.triangles(G).values()) // 3\n",
    "\n",
    "    network_stats.append({\"edge_count\": edge_count, \"triangle_count\": triangle_count})\n",
    "\n",
    "network_stats_df = pd.DataFrame(network_stats)\n",
    "network_stats_df.head(20)\n"
   ]
  },
  {
   "cell_type": "markdown",
   "metadata": {},
   "source": [
    "## Fit an ERGM"
   ]
  },
  {
   "cell_type": "markdown",
   "metadata": {},
   "source": [
    "We begin by initializing an ERGM with predefined parameters - "
   ]
  },
  {
   "cell_type": "code",
   "execution_count": 42,
   "metadata": {},
   "outputs": [
    {
     "name": "stdout",
     "output_type": "stream",
     "text": [
      "Baseline ERGM parameters - \n",
      "Number of nodes: 5\n",
      "Thetas: [-1.0986122886681098]\n",
      "Normalization factor approx: 19.45775812919028\n",
      "Is directed: False\n"
     ]
    }
   ],
   "source": [
    "n_nodes = 5\n",
    "stats_calculator = NetworkStatistics(metric_names=[\"num_edges\"])\n",
    "\n",
    "theta = -np.log(3)\n",
    "ergm = ERGM(n_nodes, stats_calculator, is_directed=False, initial_thetas=[theta])\n",
    "\n",
    "print(\"Baseline ERGM parameters - \")\n",
    "ergm.print_model_parameters()\n"
   ]
  },
  {
   "cell_type": "markdown",
   "metadata": {},
   "source": [
    "We now sample from this model a network that will become our \"observed network\", when estimating our fit performance."
   ]
  },
  {
   "cell_type": "code",
   "execution_count": 43,
   "metadata": {},
   "outputs": [
    {
     "name": "stdout",
     "output_type": "stream",
     "text": [
      "Sampled a random network from a model with theta = -1.0986122886681098\n",
      "[[0. 0. 0. 1. 1.]\n",
      " [0. 0. 1. 1. 1.]\n",
      " [0. 1. 0. 0. 1.]\n",
      " [1. 1. 0. 0. 1.]\n",
      " [1. 1. 1. 1. 0.]]\n",
      "Network has statistics - edge count: 7, triangle count: 3\n"
     ]
    }
   ],
   "source": [
    "W = ergm.sample_network(sampling_method=\"NaiveMetropolisHastings\", steps=1000)\n",
    "\n",
    "G = connectivity_matrix_to_G(W, directed=False)\n",
    "\n",
    "real_edge_count = len(G.edges())\n",
    "real_triangle_count = sum(nx.triangles(G).values()) // 3\n",
    "\n",
    "print(f\"Sampled a random network from a model with theta = {theta}\")\n",
    "print(W)\n",
    "print(f\"Network has statistics - edge count: {real_edge_count}, triangle count: {real_triangle_count}\")"
   ]
  },
  {
   "cell_type": "markdown",
   "metadata": {},
   "source": [
    "Now, fit a random ERGM to create networks with similar statistics"
   ]
  },
  {
   "cell_type": "code",
   "execution_count": 46,
   "metadata": {},
   "outputs": [
    {
     "name": "stdout",
     "output_type": "stream",
     "text": [
      "Initial ERGM parameters:\n",
      "Number of nodes: 5\n",
      "Thetas: [-0.33698419]\n",
      "Normalization factor approx: 43.1253267687915\n",
      "Is directed: False\n",
      "\n",
      "Mean of samples before fitting, calculated on 10 samples- \n",
      "edge_count        8.0\n",
      "triangle_count    5.0\n",
      "dtype: float64\n"
     ]
    }
   ],
   "source": [
    "fitted_ergm = ERGM(n_nodes, stats_calculator, is_directed=False)\n",
    "print(f\"Initial ERGM parameters:\")\n",
    "fitted_ergm.print_model_parameters()\n",
    "\n",
    "pre_fit_W_matrices = []\n",
    "samples_before_fit = []\n",
    "\n",
    "n_samples = 10\n",
    "\n",
    "for i in range(n_samples):\n",
    "    sampled_W = fitted_ergm.sample_network(sampling_method=\"NaiveMetropolisHastings\", steps=1000)\n",
    "    G = connectivity_matrix_to_G(sampled_W, directed=False)\n",
    "    edge_count = len(G.edges())\n",
    "    triangle_count = sum(nx.triangles(G).values()) // 3\n",
    "\n",
    "    samples_before_fit.append({\"edge_count\": edge_count, \"triangle_count\": triangle_count})\n",
    "    pre_fit_W_matrices.append(sampled_W)\n",
    "\n",
    "samples_before_fit_df = pd.DataFrame(samples_before_fit)\n",
    "print(\"\")\n",
    "# Print mean for each metric - \n",
    "print(f\"Mean of samples before fitting, calculated on {n_samples} samples- \")\n",
    "print(samples_before_fit_df.mean())\n"
   ]
  },
  {
   "cell_type": "markdown",
   "metadata": {},
   "source": [
    "We now fit the ERGM!"
   ]
  },
  {
   "cell_type": "code",
   "execution_count": 47,
   "metadata": {},
   "outputs": [
    {
     "name": "stdout",
     "output_type": "stream",
     "text": [
      "Fitting ERGM...\n",
      "\tStarting fit with initial normalization factor: 43.1253267687915\n",
      "\tOptimization options: {'disp': True, 'maxiter': 500, 'maxfev': 500}\n",
      "\tOptimization result:\n",
      "\tTheta: [-0.15381744]\n",
      "\tNormalization factor: 135.44816303424523\n",
      "       message: Maximum number of function evaluations has been exceeded.\n",
      "       success: False\n",
      "        status: 1\n",
      "           fun: 5.963890498779282\n",
      "             x: [-1.538e-01]\n",
      "           nit: 186\n",
      "          nfev: 500\n",
      " final_simplex: (array([[-1.538e-01],\n",
      "                       [-1.538e-01]]), array([ 5.964e+00,  5.984e+00]))\n",
      "Done fitting!\n"
     ]
    },
    {
     "name": "stderr",
     "output_type": "stream",
     "text": [
      "/Users/tomtalpir/Random/pyERGM/ergm.py:130: RuntimeWarning: Maximum number of function evaluations has been exceeded.\n",
      "  result = minimize(negative_log_likelihood, self._thetas, method='Nelder-Mead', options=optimization_options)\n"
     ]
    }
   ],
   "source": [
    "\n",
    "print(f\"Fitting ERGM...\")\n",
    "fitted_ergm.fit(W, optimization_options={'disp': True, 'maxiter': 500, 'maxfev': 500}, n_networks_for_norm=500, n_mcmc_steps=100)\n",
    "print(\"Done fitting!\")\n"
   ]
  },
  {
   "cell_type": "code",
   "execution_count": 48,
   "metadata": {},
   "outputs": [
    {
     "name": "stdout",
     "output_type": "stream",
     "text": [
      "Post fit ERGM parameters:\n",
      "Number of nodes: 5\n",
      "Thetas: [-0.15381744]\n",
      "Normalization factor approx: 135.44816303424523\n",
      "Is directed: False\n",
      "\n",
      "Mean of samples after fitting, calculated on 10 samples- \n",
      "edge_count        8.4\n",
      "triangle_count    6.0\n",
      "dtype: float64\n"
     ]
    }
   ],
   "source": [
    "print(f\"Post fit ERGM parameters:\")\n",
    "fitted_ergm.print_model_parameters()\n",
    "\n",
    "post_fit_W_matrices = []\n",
    "samples_after_fit = []\n",
    "\n",
    "for i in range(n_samples):\n",
    "    sampled_W = fitted_ergm.sample_network(sampling_method=\"NaiveMetropolisHastings\", steps=1000)\n",
    "    G = connectivity_matrix_to_G(sampled_W, directed=False)\n",
    "    edge_count = len(G.edges())\n",
    "    triangle_count = sum(nx.triangles(G).values()) // 3\n",
    "\n",
    "    samples_after_fit.append({\"edge_count\": edge_count, \"triangle_count\": triangle_count})\n",
    "    post_fit_W_matrices.append(sampled_W)\n",
    "\n",
    "samples_after_fit_df = pd.DataFrame(samples_after_fit)\n",
    "print(\"\")\n",
    "\n",
    "print(f\"Mean of samples after fitting, calculated on {n_samples} samples- \")\n",
    "print(samples_after_fit_df.mean())\n",
    "\n"
   ]
  },
  {
   "cell_type": "markdown",
   "metadata": {},
   "source": [
    "$$\n",
    "\\hat{\\theta} = -0.1538 , \\theta = -0.3369\n",
    "\\\\\n",
    "$$\n",
    "\n",
    "edge count and triangle_count not looking better than the random ergm..."
   ]
  }
 ],
 "metadata": {
  "kernelspec": {
   "display_name": "base",
   "language": "python",
   "name": "python3"
  },
  "language_info": {
   "codemirror_mode": {
    "name": "ipython",
    "version": 3
   },
   "file_extension": ".py",
   "mimetype": "text/x-python",
   "name": "python",
   "nbconvert_exporter": "python",
   "pygments_lexer": "ipython3",
   "version": "3.11.8"
  }
 },
 "nbformat": 4,
 "nbformat_minor": 2
}
