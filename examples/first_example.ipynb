{
 "cells": [
  {
   "cell_type": "code",
   "execution_count": 1,
   "metadata": {},
   "outputs": [
    {
     "name": "stdout",
     "output_type": "stream",
     "text": [
      "/Users/tomtalpir/Random/pyERGM\n"
     ]
    }
   ],
   "source": [
    "%cd /Users/tomtalpir/Random/pyERGM"
   ]
  },
  {
   "cell_type": "code",
   "execution_count": 2,
   "metadata": {},
   "outputs": [],
   "source": [
    "from utils import *\n",
    "from ergm import ERGM"
   ]
  },
  {
   "cell_type": "markdown",
   "metadata": {},
   "source": [
    "### Initialize an ERGM with random coefficients"
   ]
  },
  {
   "cell_type": "code",
   "execution_count": 3,
   "metadata": {},
   "outputs": [],
   "source": [
    "n_nodes = 10\n",
    "stats_calculator = NetworkStatistics(metric_names=[\"num_edges\"])\n",
    "ergm = ERGM(n_nodes, stats_calculator, is_directed=False)"
   ]
  },
  {
   "cell_type": "code",
   "execution_count": 4,
   "metadata": {},
   "outputs": [
    {
     "name": "stdout",
     "output_type": "stream",
     "text": [
      "Number of nodes: 10\n",
      "Thetas: [ 0.35789249  0.74967773 -0.16425925  0.69061594  0.1951709  -0.30212326\n",
      " -0.91749117 -0.83263771 -0.25968909 -0.24264333]\n",
      "Normalization factor approx: 60.563583773179076\n",
      "Is directed: False\n"
     ]
    }
   ],
   "source": [
    "ergm.print_model_parameters()"
   ]
  },
  {
   "cell_type": "markdown",
   "metadata": {},
   "source": [
    "### Sample a networm from the distribution"
   ]
  },
  {
   "cell_type": "code",
   "execution_count": 5,
   "metadata": {},
   "outputs": [
    {
     "ename": "ValueError",
     "evalue": "shapes (10,) and (1,) not aligned: 10 (dim 0) != 1 (dim 0)",
     "output_type": "error",
     "traceback": [
      "\u001b[0;31m---------------------------------------------------------------------------\u001b[0m",
      "\u001b[0;31mValueError\u001b[0m                                Traceback (most recent call last)",
      "Cell \u001b[0;32mIn[5], line 1\u001b[0m\n\u001b[0;32m----> 1\u001b[0m ergm\u001b[38;5;241m.\u001b[39msample_network(sampling_method\u001b[38;5;241m=\u001b[39m\u001b[38;5;124m\"\u001b[39m\u001b[38;5;124mNaiveMetropolisHastings\u001b[39m\u001b[38;5;124m\"\u001b[39m, steps\u001b[38;5;241m=\u001b[39m\u001b[38;5;241m100\u001b[39m)\n",
      "File \u001b[0;32m~/Random/pyERGM/ergm.py:156\u001b[0m, in \u001b[0;36mERGM.sample_network\u001b[0;34m(self, sampling_method, seed_network, steps)\u001b[0m\n\u001b[1;32m    153\u001b[0m     G \u001b[38;5;241m=\u001b[39m nx\u001b[38;5;241m.\u001b[39merdos_renyi_graph(\u001b[38;5;28mself\u001b[39m\u001b[38;5;241m.\u001b[39m_n_nodes, \u001b[38;5;28mself\u001b[39m\u001b[38;5;241m.\u001b[39m_seed_MCMC_proba, directed\u001b[38;5;241m=\u001b[39m\u001b[38;5;28mself\u001b[39m\u001b[38;5;241m.\u001b[39m_is_directed)\n\u001b[1;32m    154\u001b[0m     seed_network \u001b[38;5;241m=\u001b[39m nx\u001b[38;5;241m.\u001b[39mto_numpy_array(G)\n\u001b[0;32m--> 156\u001b[0m network \u001b[38;5;241m=\u001b[39m sampler\u001b[38;5;241m.\u001b[39msample(seed_network, steps)\n\u001b[1;32m    158\u001b[0m \u001b[38;5;28;01mreturn\u001b[39;00m network\n",
      "File \u001b[0;32m~/Random/pyERGM/sampling.py:59\u001b[0m, in \u001b[0;36mNaiveMetropolisHastings.sample\u001b[0;34m(self, initial_state, n_iterations)\u001b[0m\n\u001b[1;32m     56\u001b[0m y_plus \u001b[38;5;241m=\u001b[39m \u001b[38;5;28mself\u001b[39m\u001b[38;5;241m.\u001b[39moverride_network_edge(current_network, random_entry[\u001b[38;5;241m0\u001b[39m], random_entry[\u001b[38;5;241m1\u001b[39m], \u001b[38;5;241m1\u001b[39m)\n\u001b[1;32m     57\u001b[0m y_minus \u001b[38;5;241m=\u001b[39m \u001b[38;5;28mself\u001b[39m\u001b[38;5;241m.\u001b[39moverride_network_edge(current_network, random_entry[\u001b[38;5;241m0\u001b[39m], random_entry[\u001b[38;5;241m1\u001b[39m], \u001b[38;5;241m0\u001b[39m)\n\u001b[0;32m---> 59\u001b[0m change_score \u001b[38;5;241m=\u001b[39m \u001b[38;5;28mself\u001b[39m\u001b[38;5;241m.\u001b[39m_calculate_weighted_change_score(y_plus, y_minus)\n\u001b[1;32m     60\u001b[0m acceptance_proba \u001b[38;5;241m=\u001b[39m \u001b[38;5;28mmin\u001b[39m(\u001b[38;5;241m1\u001b[39m, np\u001b[38;5;241m.\u001b[39mexp(change_score))\n\u001b[1;32m     62\u001b[0m \u001b[38;5;28;01mif\u001b[39;00m np\u001b[38;5;241m.\u001b[39mrandom\u001b[38;5;241m.\u001b[39mrand() \u001b[38;5;241m<\u001b[39m acceptance_proba:\n",
      "File \u001b[0;32m~/Random/pyERGM/sampling.py:48\u001b[0m, in \u001b[0;36mNaiveMetropolisHastings._calculate_weighted_change_score\u001b[0;34m(self, y_plus, y_minus)\u001b[0m\n\u001b[1;32m     44\u001b[0m \u001b[38;5;250m\u001b[39m\u001b[38;5;124;03m\"\"\"\u001b[39;00m\n\u001b[1;32m     45\u001b[0m \u001b[38;5;124;03mCalculate g(y_plus)-g(y_minus) and then inner product with thetas.\u001b[39;00m\n\u001b[1;32m     46\u001b[0m \u001b[38;5;124;03m\"\"\"\u001b[39;00m\n\u001b[1;32m     47\u001b[0m change_score \u001b[38;5;241m=\u001b[39m \u001b[38;5;28mself\u001b[39m\u001b[38;5;241m.\u001b[39mnetwork_stats_calculator\u001b[38;5;241m.\u001b[39mcalculate_statistics(y_plus) \u001b[38;5;241m-\u001b[39m \u001b[38;5;28mself\u001b[39m\u001b[38;5;241m.\u001b[39mnetwork_stats_calculator\u001b[38;5;241m.\u001b[39mcalculate_statistics(y_minus)\n\u001b[0;32m---> 48\u001b[0m \u001b[38;5;28;01mreturn\u001b[39;00m np\u001b[38;5;241m.\u001b[39mdot(\u001b[38;5;28mself\u001b[39m\u001b[38;5;241m.\u001b[39mthetas, change_score)\n",
      "File \u001b[0;32m<__array_function__ internals>:200\u001b[0m, in \u001b[0;36mdot\u001b[0;34m(*args, **kwargs)\u001b[0m\n",
      "\u001b[0;31mValueError\u001b[0m: shapes (10,) and (1,) not aligned: 10 (dim 0) != 1 (dim 0)"
     ]
    }
   ],
   "source": [
    "ergm.sample_network(sampling_method=\"NaiveMetropolisHastings\", steps=100)"
   ]
  },
  {
   "cell_type": "code",
   "execution_count": null,
   "metadata": {},
   "outputs": [],
   "source": []
  },
  {
   "cell_type": "code",
   "execution_count": null,
   "metadata": {},
   "outputs": [],
   "source": []
  }
 ],
 "metadata": {
  "kernelspec": {
   "display_name": "base",
   "language": "python",
   "name": "python3"
  },
  "language_info": {
   "codemirror_mode": {
    "name": "ipython",
    "version": 3
   },
   "file_extension": ".py",
   "mimetype": "text/x-python",
   "name": "python",
   "nbconvert_exporter": "python",
   "pygments_lexer": "ipython3",
   "version": "3.11.8"
  }
 },
 "nbformat": 4,
 "nbformat_minor": 2
}
