{
 "cells": [
  {
   "cell_type": "code",
   "execution_count": 1,
   "metadata": {
    "ExecuteTime": {
     "end_time": "2024-07-21T12:28:56.044446900Z",
     "start_time": "2024-07-21T12:28:55.917504Z"
    }
   },
   "outputs": [
    {
     "name": "stdout",
     "output_type": "stream",
     "text": [
      "/Users/tomtalpir/Random/pyERGM\n"
     ]
    }
   ],
   "source": [
    "from pathlib import Path\n",
    "parent_dir = str(Path.cwd().parent)\n",
    "%cd $parent_dir"
   ]
  },
  {
   "cell_type": "code",
   "execution_count": 2,
   "metadata": {
    "ExecuteTime": {
     "end_time": "2024-07-21T12:30:25.054064700Z",
     "start_time": "2024-07-21T12:30:23.471407200Z"
    }
   },
   "outputs": [],
   "source": [
    "from utils import *\n",
    "from ergm import ERGM\n",
    "from metrics import *\n",
    "\n",
    "import pandas as pd\n",
    "import numpy as np"
   ]
  },
  {
   "cell_type": "markdown",
   "metadata": {},
   "source": [
    "### Initialize an ERGM with random coefficients"
   ]
  },
  {
   "cell_type": "code",
   "execution_count": 4,
   "metadata": {
    "ExecuteTime": {
     "end_time": "2024-07-21T13:32:42.547782400Z",
     "start_time": "2024-07-21T13:32:42.531930200Z"
    }
   },
   "outputs": [
    {
     "name": "stdout",
     "output_type": "stream",
     "text": [
      "Number of nodes: 10\n",
      "Thetas: [-0.03087983]\n",
      "Normalization factor approx: 62.45477141452264\n",
      "Is directed: False\n"
     ]
    }
   ],
   "source": [
    "n_nodes = 10\n",
    "stats_calculator = MetricsCollection([NumberOfEdges()], is_directed=False)\n",
    "\n",
    "\n",
    "ergm = ERGM(n_nodes, stats_calculator, is_directed=False)\n",
    "\n",
    "ergm.print_model_parameters()"
   ]
  },
  {
   "cell_type": "markdown",
   "metadata": {},
   "source": [
    "### Sample networks from the distribution, and calculate some statistics on the distribution"
   ]
  },
  {
   "cell_type": "code",
   "execution_count": 10,
   "metadata": {
    "ExecuteTime": {
     "end_time": "2024-07-21T13:33:29.562627900Z",
     "start_time": "2024-07-21T13:33:26.542060800Z"
    }
   },
   "outputs": [
    {
     "data": {
      "text/html": [
       "<div>\n",
       "<style scoped>\n",
       "    .dataframe tbody tr th:only-of-type {\n",
       "        vertical-align: middle;\n",
       "    }\n",
       "\n",
       "    .dataframe tbody tr th {\n",
       "        vertical-align: top;\n",
       "    }\n",
       "\n",
       "    .dataframe thead th {\n",
       "        text-align: right;\n",
       "    }\n",
       "</style>\n",
       "<table border=\"1\" class=\"dataframe\">\n",
       "  <thead>\n",
       "    <tr style=\"text-align: right;\">\n",
       "      <th></th>\n",
       "      <th>edge_count</th>\n",
       "      <th>triangle_count</th>\n",
       "    </tr>\n",
       "  </thead>\n",
       "  <tbody>\n",
       "    <tr>\n",
       "      <th>0</th>\n",
       "      <td>45</td>\n",
       "      <td>120</td>\n",
       "    </tr>\n",
       "    <tr>\n",
       "      <th>1</th>\n",
       "      <td>45</td>\n",
       "      <td>120</td>\n",
       "    </tr>\n",
       "    <tr>\n",
       "      <th>2</th>\n",
       "      <td>45</td>\n",
       "      <td>120</td>\n",
       "    </tr>\n",
       "    <tr>\n",
       "      <th>3</th>\n",
       "      <td>45</td>\n",
       "      <td>120</td>\n",
       "    </tr>\n",
       "    <tr>\n",
       "      <th>4</th>\n",
       "      <td>45</td>\n",
       "      <td>120</td>\n",
       "    </tr>\n",
       "    <tr>\n",
       "      <th>5</th>\n",
       "      <td>45</td>\n",
       "      <td>120</td>\n",
       "    </tr>\n",
       "    <tr>\n",
       "      <th>6</th>\n",
       "      <td>45</td>\n",
       "      <td>120</td>\n",
       "    </tr>\n",
       "    <tr>\n",
       "      <th>7</th>\n",
       "      <td>45</td>\n",
       "      <td>120</td>\n",
       "    </tr>\n",
       "    <tr>\n",
       "      <th>8</th>\n",
       "      <td>45</td>\n",
       "      <td>120</td>\n",
       "    </tr>\n",
       "    <tr>\n",
       "      <th>9</th>\n",
       "      <td>45</td>\n",
       "      <td>120</td>\n",
       "    </tr>\n",
       "  </tbody>\n",
       "</table>\n",
       "</div>"
      ],
      "text/plain": [
       "   edge_count  triangle_count\n",
       "0          45             120\n",
       "1          45             120\n",
       "2          45             120\n",
       "3          45             120\n",
       "4          45             120\n",
       "5          45             120\n",
       "6          45             120\n",
       "7          45             120\n",
       "8          45             120\n",
       "9          45             120"
      ]
     },
     "execution_count": 10,
     "metadata": {},
     "output_type": "execute_result"
    }
   ],
   "source": [
    "network_stats = []\n",
    "for i in range(10):\n",
    "    W = ergm.sample_network(sampling_method=\"NaiveMetropolisHastings\", steps=1000)\n",
    "    G = connectivity_matrix_to_G(W, directed=False)\n",
    "    edge_count = len(G.edges())\n",
    "    triangle_count = sum(nx.triangles(G).values()) // 3\n",
    "\n",
    "    network_stats.append({\"edge_count\": edge_count, \"triangle_count\": triangle_count})\n",
    "\n",
    "network_stats_df = pd.DataFrame(network_stats)\n",
    "network_stats_df.head(20)\n"
   ]
  },
  {
   "cell_type": "markdown",
   "metadata": {},
   "source": [
    "## Fit an ERGM"
   ]
  },
  {
   "cell_type": "markdown",
   "metadata": {},
   "source": [
    "We begin by initializing an ERGM with predefined parameters - "
   ]
  },
  {
   "cell_type": "code",
   "execution_count": 5,
   "metadata": {
    "ExecuteTime": {
     "end_time": "2024-07-21T13:33:52.394915900Z",
     "start_time": "2024-07-21T13:33:52.379092600Z"
    }
   },
   "outputs": [
    {
     "name": "stdout",
     "output_type": "stream",
     "text": [
      "Baseline ERGM parameters - \n",
      "Number of nodes: 5\n",
      "Thetas: [-1.0986122886681098]\n",
      "Normalization factor approx: 44.59660413274814\n",
      "Is directed: False\n"
     ]
    }
   ],
   "source": [
    "n_nodes = 5\n",
    "stats_calculator = MetricsCollection([NumberOfEdges()], is_directed=False)\n",
    "\n",
    "theta = -np.log(3)\n",
    "ergm = ERGM(n_nodes, stats_calculator, is_directed=False, initial_thetas=[theta])\n",
    "\n",
    "print(\"Baseline ERGM parameters - \")\n",
    "ergm.print_model_parameters()\n"
   ]
  },
  {
   "cell_type": "markdown",
   "metadata": {},
   "source": [
    "We now sample from this model a network that will become our \"observed network\", when estimating our fit performance."
   ]
  },
  {
   "cell_type": "code",
   "execution_count": 9,
   "metadata": {
    "ExecuteTime": {
     "end_time": "2024-07-21T13:34:07.998379900Z",
     "start_time": "2024-07-21T13:34:07.904510500Z"
    }
   },
   "outputs": [
    {
     "name": "stdout",
     "output_type": "stream",
     "text": [
      "Sampled a random network from a model with theta = -1.0986122886681098\n",
      "[[0. 1. 0. 0. 1.]\n",
      " [1. 0. 0. 0. 0.]\n",
      " [0. 0. 0. 1. 0.]\n",
      " [0. 0. 1. 0. 0.]\n",
      " [1. 0. 0. 0. 0.]]\n",
      "Network has statistics - edge count: 3, triangle count: 0\n"
     ]
    }
   ],
   "source": [
    "W = ergm.sample_network(sampling_method=\"NaiveMetropolisHastings\", steps=1000)\n",
    "\n",
    "G = connectivity_matrix_to_G(W, directed=False)\n",
    "\n",
    "real_edge_count = len(G.edges())\n",
    "real_triangle_count = sum(nx.triangles(G).values()) // 3\n",
    "\n",
    "print(f\"Sampled a random network from a model with theta = {theta}\")\n",
    "print(W)\n",
    "print(f\"Network has statistics - edge count: {real_edge_count}, triangle count: {real_triangle_count}\")"
   ]
  },
  {
   "cell_type": "markdown",
   "metadata": {},
   "source": [
    "Now, fit a random ERGM to create networks with similar statistics"
   ]
  },
  {
   "cell_type": "code",
   "execution_count": 10,
   "metadata": {
    "ExecuteTime": {
     "end_time": "2024-07-21T13:35:20.570400200Z",
     "start_time": "2024-07-21T13:35:19.572400900Z"
    }
   },
   "outputs": [
    {
     "name": "stdout",
     "output_type": "stream",
     "text": [
      "Initial ERGM parameters:\n",
      "Number of nodes: 5\n",
      "Thetas: [0.18550661]\n",
      "Normalization factor approx: 55.93379034441445\n",
      "Is directed: False\n",
      "\n",
      "Mean of samples before fitting, calculated on 10 samples- \n",
      "edge_count        5.0\n",
      "triangle_count    1.0\n",
      "dtype: float64\n"
     ]
    }
   ],
   "source": [
    "fitted_ergm = ERGM(n_nodes, stats_calculator, is_directed=False)\n",
    "print(f\"Initial ERGM parameters:\")\n",
    "fitted_ergm.print_model_parameters()\n",
    "\n",
    "pre_fit_W_matrices = []\n",
    "samples_before_fit = []\n",
    "\n",
    "n_samples = 10\n",
    "\n",
    "for i in range(n_samples):\n",
    "    sampled_W = fitted_ergm.sample_network(sampling_method=\"NaiveMetropolisHastings\", steps=1000)\n",
    "    G = connectivity_matrix_to_G(sampled_W, directed=False)\n",
    "    edge_count = len(G.edges())\n",
    "    triangle_count = sum(nx.triangles(G).values()) // 3\n",
    "\n",
    "    samples_before_fit.append({\"edge_count\": edge_count, \"triangle_count\": triangle_count})\n",
    "    pre_fit_W_matrices.append(sampled_W)\n",
    "\n",
    "samples_before_fit_df = pd.DataFrame(samples_before_fit)\n",
    "print(\"\")\n",
    "# Print mean for each metric - \n",
    "print(f\"Mean of samples before fitting, calculated on {n_samples} samples- \")\n",
    "print(samples_before_fit_df.mean())\n"
   ]
  },
  {
   "cell_type": "markdown",
   "metadata": {},
   "source": [
    "We now fit the ERGM!"
   ]
  },
  {
   "cell_type": "code",
   "execution_count": 13,
   "metadata": {
    "ExecuteTime": {
     "end_time": "2024-07-21T14:09:49.796634200Z",
     "start_time": "2024-07-21T13:35:32.539389400Z"
    }
   },
   "outputs": [
    {
     "name": "stdout",
     "output_type": "stream",
     "text": [
      "Fitting ERGM...\n",
      "optimization started\n"
     ]
    },
    {
     "ename": "ValueError",
     "evalue": "The truth value of an array with more than one element is ambiguous. Use a.any() or a.all()",
     "output_type": "error",
     "traceback": [
      "\u001b[0;31m---------------------------------------------------------------------------\u001b[0m",
      "\u001b[0;31mValueError\u001b[0m                                Traceback (most recent call last)",
      "Cell \u001b[0;32mIn[13], line 2\u001b[0m\n\u001b[1;32m      1\u001b[0m \u001b[38;5;28mprint\u001b[39m(\u001b[38;5;124mf\u001b[39m\u001b[38;5;124m\"\u001b[39m\u001b[38;5;124mFitting ERGM...\u001b[39m\u001b[38;5;124m\"\u001b[39m)\n\u001b[0;32m----> 2\u001b[0m fitted_ergm\u001b[38;5;241m.\u001b[39mfit(W)\n\u001b[1;32m      3\u001b[0m \u001b[38;5;28mprint\u001b[39m(\u001b[38;5;124m\"\u001b[39m\u001b[38;5;124mDone fitting!\u001b[39m\u001b[38;5;124m\"\u001b[39m)\n",
      "File \u001b[0;32m~/Random/pyERGM/ergm.py:200\u001b[0m, in \u001b[0;36mERGM.fit\u001b[0;34m(self, observed_network)\u001b[0m\n\u001b[1;32m    198\u001b[0m \u001b[38;5;28mprint\u001b[39m(\u001b[38;5;124m\"\u001b[39m\u001b[38;5;124moptimization started\u001b[39m\u001b[38;5;124m\"\u001b[39m)\n\u001b[1;32m    199\u001b[0m \u001b[38;5;28mself\u001b[39m\u001b[38;5;241m.\u001b[39moptimization_start_time \u001b[38;5;241m=\u001b[39m time\u001b[38;5;241m.\u001b[39mtime()\n\u001b[0;32m--> 200\u001b[0m res \u001b[38;5;241m=\u001b[39m minimize(nll, \u001b[38;5;28mself\u001b[39m\u001b[38;5;241m.\u001b[39m_thetas, jac\u001b[38;5;241m=\u001b[39mnll_grad, callback\u001b[38;5;241m=\u001b[39mafter_iteration_callback)\n\u001b[1;32m    201\u001b[0m \u001b[38;5;28mself\u001b[39m\u001b[38;5;241m.\u001b[39m_thetas \u001b[38;5;241m=\u001b[39m res\u001b[38;5;241m.\u001b[39mx\n\u001b[1;32m    202\u001b[0m \u001b[38;5;28mprint\u001b[39m(\u001b[38;5;124m\"\u001b[39m\u001b[38;5;130;01m\\t\u001b[39;00m\u001b[38;5;124mOptimization result:\u001b[39m\u001b[38;5;124m\"\u001b[39m)\n",
      "File \u001b[0;32m~/anaconda3/lib/python3.11/site-packages/scipy/optimize/_minimize.py:708\u001b[0m, in \u001b[0;36mminimize\u001b[0;34m(fun, x0, args, method, jac, hess, hessp, bounds, constraints, tol, callback, options)\u001b[0m\n\u001b[1;32m    706\u001b[0m     res \u001b[38;5;241m=\u001b[39m _minimize_cg(fun, x0, args, jac, callback, \u001b[38;5;241m*\u001b[39m\u001b[38;5;241m*\u001b[39moptions)\n\u001b[1;32m    707\u001b[0m \u001b[38;5;28;01melif\u001b[39;00m meth \u001b[38;5;241m==\u001b[39m \u001b[38;5;124m'\u001b[39m\u001b[38;5;124mbfgs\u001b[39m\u001b[38;5;124m'\u001b[39m:\n\u001b[0;32m--> 708\u001b[0m     res \u001b[38;5;241m=\u001b[39m _minimize_bfgs(fun, x0, args, jac, callback, \u001b[38;5;241m*\u001b[39m\u001b[38;5;241m*\u001b[39moptions)\n\u001b[1;32m    709\u001b[0m \u001b[38;5;28;01melif\u001b[39;00m meth \u001b[38;5;241m==\u001b[39m \u001b[38;5;124m'\u001b[39m\u001b[38;5;124mnewton-cg\u001b[39m\u001b[38;5;124m'\u001b[39m:\n\u001b[1;32m    710\u001b[0m     res \u001b[38;5;241m=\u001b[39m _minimize_newtoncg(fun, x0, args, jac, hess, hessp, callback,\n\u001b[1;32m    711\u001b[0m                              \u001b[38;5;241m*\u001b[39m\u001b[38;5;241m*\u001b[39moptions)\n",
      "File \u001b[0;32m~/anaconda3/lib/python3.11/site-packages/scipy/optimize/_optimize.py:1477\u001b[0m, in \u001b[0;36m_minimize_bfgs\u001b[0;34m(fun, x0, args, jac, callback, gtol, norm, eps, maxiter, disp, return_all, finite_diff_rel_step, xrtol, c1, c2, hess_inv0, **unknown_options)\u001b[0m\n\u001b[1;32m   1474\u001b[0m \u001b[38;5;28;01mif\u001b[39;00m maxiter \u001b[38;5;129;01mis\u001b[39;00m \u001b[38;5;28;01mNone\u001b[39;00m:\n\u001b[1;32m   1475\u001b[0m     maxiter \u001b[38;5;241m=\u001b[39m \u001b[38;5;28mlen\u001b[39m(x0) \u001b[38;5;241m*\u001b[39m \u001b[38;5;241m200\u001b[39m\n\u001b[0;32m-> 1477\u001b[0m sf \u001b[38;5;241m=\u001b[39m _prepare_scalar_function(fun, x0, jac, args\u001b[38;5;241m=\u001b[39margs, epsilon\u001b[38;5;241m=\u001b[39meps,\n\u001b[1;32m   1478\u001b[0m                               finite_diff_rel_step\u001b[38;5;241m=\u001b[39mfinite_diff_rel_step)\n\u001b[1;32m   1480\u001b[0m f \u001b[38;5;241m=\u001b[39m sf\u001b[38;5;241m.\u001b[39mfun\n\u001b[1;32m   1481\u001b[0m myfprime \u001b[38;5;241m=\u001b[39m sf\u001b[38;5;241m.\u001b[39mgrad\n",
      "File \u001b[0;32m~/anaconda3/lib/python3.11/site-packages/scipy/optimize/_optimize.py:402\u001b[0m, in \u001b[0;36m_prepare_scalar_function\u001b[0;34m(fun, x0, jac, args, bounds, epsilon, finite_diff_rel_step, hess)\u001b[0m\n\u001b[1;32m    398\u001b[0m     bounds \u001b[38;5;241m=\u001b[39m (\u001b[38;5;241m-\u001b[39mnp\u001b[38;5;241m.\u001b[39minf, np\u001b[38;5;241m.\u001b[39minf)\n\u001b[1;32m    400\u001b[0m \u001b[38;5;66;03m# ScalarFunction caches. Reuse of fun(x) during grad\u001b[39;00m\n\u001b[1;32m    401\u001b[0m \u001b[38;5;66;03m# calculation reduces overall function evaluations.\u001b[39;00m\n\u001b[0;32m--> 402\u001b[0m sf \u001b[38;5;241m=\u001b[39m ScalarFunction(fun, x0, args, grad, hess,\n\u001b[1;32m    403\u001b[0m                     finite_diff_rel_step, bounds, epsilon\u001b[38;5;241m=\u001b[39mepsilon)\n\u001b[1;32m    405\u001b[0m \u001b[38;5;28;01mreturn\u001b[39;00m sf\n",
      "File \u001b[0;32m~/anaconda3/lib/python3.11/site-packages/scipy/optimize/_differentiable_functions.py:185\u001b[0m, in \u001b[0;36mScalarFunction.__init__\u001b[0;34m(self, fun, x0, args, grad, hess, finite_diff_rel_step, finite_diff_bounds, epsilon)\u001b[0m\n\u001b[1;32m    181\u001b[0m         \u001b[38;5;28mself\u001b[39m\u001b[38;5;241m.\u001b[39mg \u001b[38;5;241m=\u001b[39m approx_derivative(fun_wrapped, \u001b[38;5;28mself\u001b[39m\u001b[38;5;241m.\u001b[39mx, f0\u001b[38;5;241m=\u001b[39m\u001b[38;5;28mself\u001b[39m\u001b[38;5;241m.\u001b[39mf,\n\u001b[1;32m    182\u001b[0m                                    \u001b[38;5;241m*\u001b[39m\u001b[38;5;241m*\u001b[39mfinite_diff_options)\n\u001b[1;32m    184\u001b[0m \u001b[38;5;28mself\u001b[39m\u001b[38;5;241m.\u001b[39m_update_grad_impl \u001b[38;5;241m=\u001b[39m update_grad\n\u001b[0;32m--> 185\u001b[0m \u001b[38;5;28mself\u001b[39m\u001b[38;5;241m.\u001b[39m_update_grad()\n\u001b[1;32m    187\u001b[0m \u001b[38;5;66;03m# Hessian Evaluation\u001b[39;00m\n\u001b[1;32m    188\u001b[0m \u001b[38;5;28;01mif\u001b[39;00m \u001b[38;5;28mcallable\u001b[39m(hess):\n",
      "File \u001b[0;32m~/anaconda3/lib/python3.11/site-packages/scipy/optimize/_differentiable_functions.py:267\u001b[0m, in \u001b[0;36mScalarFunction._update_grad\u001b[0;34m(self)\u001b[0m\n\u001b[1;32m    265\u001b[0m \u001b[38;5;28;01mdef\u001b[39;00m \u001b[38;5;21m_update_grad\u001b[39m(\u001b[38;5;28mself\u001b[39m):\n\u001b[1;32m    266\u001b[0m     \u001b[38;5;28;01mif\u001b[39;00m \u001b[38;5;129;01mnot\u001b[39;00m \u001b[38;5;28mself\u001b[39m\u001b[38;5;241m.\u001b[39mg_updated:\n\u001b[0;32m--> 267\u001b[0m         \u001b[38;5;28mself\u001b[39m\u001b[38;5;241m.\u001b[39m_update_grad_impl()\n\u001b[1;32m    268\u001b[0m         \u001b[38;5;28mself\u001b[39m\u001b[38;5;241m.\u001b[39mg_updated \u001b[38;5;241m=\u001b[39m \u001b[38;5;28;01mTrue\u001b[39;00m\n",
      "File \u001b[0;32m~/anaconda3/lib/python3.11/site-packages/scipy/optimize/_differentiable_functions.py:175\u001b[0m, in \u001b[0;36mScalarFunction.__init__.<locals>.update_grad\u001b[0;34m()\u001b[0m\n\u001b[1;32m    174\u001b[0m \u001b[38;5;28;01mdef\u001b[39;00m \u001b[38;5;21mupdate_grad\u001b[39m():\n\u001b[0;32m--> 175\u001b[0m     \u001b[38;5;28mself\u001b[39m\u001b[38;5;241m.\u001b[39mg \u001b[38;5;241m=\u001b[39m grad_wrapped(\u001b[38;5;28mself\u001b[39m\u001b[38;5;241m.\u001b[39mx)\n",
      "File \u001b[0;32m~/anaconda3/lib/python3.11/site-packages/scipy/optimize/_differentiable_functions.py:172\u001b[0m, in \u001b[0;36mScalarFunction.__init__.<locals>.grad_wrapped\u001b[0;34m(x)\u001b[0m\n\u001b[1;32m    170\u001b[0m \u001b[38;5;28;01mdef\u001b[39;00m \u001b[38;5;21mgrad_wrapped\u001b[39m(x):\n\u001b[1;32m    171\u001b[0m     \u001b[38;5;28mself\u001b[39m\u001b[38;5;241m.\u001b[39mngev \u001b[38;5;241m+\u001b[39m\u001b[38;5;241m=\u001b[39m \u001b[38;5;241m1\u001b[39m\n\u001b[0;32m--> 172\u001b[0m     \u001b[38;5;28;01mreturn\u001b[39;00m np\u001b[38;5;241m.\u001b[39matleast_1d(grad(np\u001b[38;5;241m.\u001b[39mcopy(x), \u001b[38;5;241m*\u001b[39margs))\n",
      "File \u001b[0;32m~/Random/pyERGM/ergm.py:179\u001b[0m, in \u001b[0;36mERGM.fit.<locals>.nll_grad\u001b[0;34m(thetas)\u001b[0m\n\u001b[1;32m    175\u001b[0m model \u001b[38;5;241m=\u001b[39m ERGM(\u001b[38;5;28mself\u001b[39m\u001b[38;5;241m.\u001b[39m_n_nodes, \u001b[38;5;28mself\u001b[39m\u001b[38;5;241m.\u001b[39m_network_statistics, initial_thetas\u001b[38;5;241m=\u001b[39mthetas, is_directed\u001b[38;5;241m=\u001b[39m\u001b[38;5;28mself\u001b[39m\u001b[38;5;241m.\u001b[39m_is_directed)\n\u001b[1;32m    177\u001b[0m observed_features \u001b[38;5;241m=\u001b[39m model\u001b[38;5;241m.\u001b[39m_network_statistics\u001b[38;5;241m.\u001b[39mcalculate_statistics(observed_network)\n\u001b[0;32m--> 179\u001b[0m networks_for_sample \u001b[38;5;241m=\u001b[39m \u001b[38;5;28mself\u001b[39m\u001b[38;5;241m.\u001b[39m_generate_networks_for_sample()\n\u001b[1;32m    180\u001b[0m num_of_features \u001b[38;5;241m=\u001b[39m model\u001b[38;5;241m.\u001b[39m_network_statistics\u001b[38;5;241m.\u001b[39mget_num_of_statistics()\n\u001b[1;32m    182\u001b[0m features_of_net_samples \u001b[38;5;241m=\u001b[39m np\u001b[38;5;241m.\u001b[39mzeros((num_of_features, \u001b[38;5;28mself\u001b[39m\u001b[38;5;241m.\u001b[39mn_networks_for_norm))\n",
      "File \u001b[0;32m~/Random/pyERGM/ergm.py:105\u001b[0m, in \u001b[0;36mERGM._generate_networks_for_sample\u001b[0;34m(self)\u001b[0m\n\u001b[1;32m    103\u001b[0m \u001b[38;5;28;01mwhile\u001b[39;00m networks_count \u001b[38;5;241m<\u001b[39m \u001b[38;5;28mself\u001b[39m\u001b[38;5;241m.\u001b[39mn_networks_for_norm:\n\u001b[1;32m    104\u001b[0m     net \u001b[38;5;241m=\u001b[39m \u001b[38;5;28mself\u001b[39m\u001b[38;5;241m.\u001b[39msample_network(steps\u001b[38;5;241m=\u001b[39m\u001b[38;5;28mself\u001b[39m\u001b[38;5;241m.\u001b[39mn_mcmc_steps, sampling_method\u001b[38;5;241m=\u001b[39m\u001b[38;5;124m\"\u001b[39m\u001b[38;5;124mNaiveMetropolisHastings\u001b[39m\u001b[38;5;124m\"\u001b[39m)\n\u001b[0;32m--> 105\u001b[0m     \u001b[38;5;28;01mif\u001b[39;00m net \u001b[38;5;129;01mnot\u001b[39;00m \u001b[38;5;129;01min\u001b[39;00m networks:\n\u001b[1;32m    106\u001b[0m         networks\u001b[38;5;241m.\u001b[39mappend(net)\n\u001b[1;32m    107\u001b[0m         networks_count \u001b[38;5;241m+\u001b[39m\u001b[38;5;241m=\u001b[39m \u001b[38;5;241m1\u001b[39m\n",
      "\u001b[0;31mValueError\u001b[0m: The truth value of an array with more than one element is ambiguous. Use a.any() or a.all()"
     ]
    }
   ],
   "source": [
    "\n",
    "print(f\"Fitting ERGM...\")\n",
    "fitted_ergm.fit(W)\n",
    "print(\"Done fitting!\")\n"
   ]
  },
  {
   "cell_type": "code",
   "execution_count": 48,
   "metadata": {},
   "outputs": [
    {
     "name": "stdout",
     "output_type": "stream",
     "text": [
      "Post fit ERGM parameters:\n",
      "Number of nodes: 5\n",
      "Thetas: [-0.15381744]\n",
      "Normalization factor approx: 135.44816303424523\n",
      "Is directed: False\n",
      "\n",
      "Mean of samples after fitting, calculated on 10 samples- \n",
      "edge_count        8.4\n",
      "triangle_count    6.0\n",
      "dtype: float64\n"
     ]
    }
   ],
   "source": [
    "print(f\"Post fit ERGM parameters:\")\n",
    "fitted_ergm.print_model_parameters()\n",
    "\n",
    "post_fit_W_matrices = []\n",
    "samples_after_fit = []\n",
    "\n",
    "for i in range(n_samples):\n",
    "    sampled_W = fitted_ergm.sample_network(sampling_method=\"NaiveMetropolisHastings\", steps=1000)\n",
    "    G = connectivity_matrix_to_G(sampled_W, directed=False)\n",
    "    edge_count = len(G.edges())\n",
    "    triangle_count = sum(nx.triangles(G).values()) // 3\n",
    "\n",
    "    samples_after_fit.append({\"edge_count\": edge_count, \"triangle_count\": triangle_count})\n",
    "    post_fit_W_matrices.append(sampled_W)\n",
    "\n",
    "samples_after_fit_df = pd.DataFrame(samples_after_fit)\n",
    "print(\"\")\n",
    "\n",
    "print(f\"Mean of samples after fitting, calculated on {n_samples} samples- \")\n",
    "print(samples_after_fit_df.mean())\n",
    "\n"
   ]
  },
  {
   "cell_type": "markdown",
   "metadata": {},
   "source": [
    "$$\n",
    "\\hat{\\theta} = -0.1538 , \\theta = -0.3369\n",
    "\\\\\n",
    "$$\n",
    "\n",
    "edge count and triangle_count not looking better than the random ergm..."
   ]
  }
 ],
 "metadata": {
  "kernelspec": {
   "display_name": "base",
   "language": "python",
   "name": "python3"
  },
  "language_info": {
   "codemirror_mode": {
    "name": "ipython",
    "version": 3
   },
   "file_extension": ".py",
   "mimetype": "text/x-python",
   "name": "python",
   "nbconvert_exporter": "python",
   "pygments_lexer": "ipython3",
   "version": "3.11.8"
  }
 },
 "nbformat": 4,
 "nbformat_minor": 2
}
